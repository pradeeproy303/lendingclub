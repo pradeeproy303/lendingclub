{
 "cells": [
  {
   "cell_type": "markdown",
   "id": "33ea4583",
   "metadata": {},
   "source": [
    "# PROBLEM STATEMENT: Find loan defaults"
   ]
  },
  {
   "cell_type": "markdown",
   "id": "0d053916",
   "metadata": {},
   "source": [
    "The Lending Club fincancing company wants to understand the driving factors (or driver variables) behind loan default, i.e. the variables which are strong indicators of default. The company can utilize this knowledge for its portfolio and risk assessment."
   ]
  },
  {
   "cell_type": "code",
   "execution_count": 168,
   "id": "437306ab",
   "metadata": {},
   "outputs": [],
   "source": [
    "#import libraries to be used for data cleaning and plotting\n",
    "import numpy as np\n",
    "import pandas as pd\n",
    "import matplotlib.pyplot as plt\n",
    "import seaborn as sns"
   ]
  },
  {
   "cell_type": "code",
   "execution_count": 169,
   "id": "56484076",
   "metadata": {},
   "outputs": [
    {
     "data": {
      "text/html": [
       "<div>\n",
       "<style scoped>\n",
       "    .dataframe tbody tr th:only-of-type {\n",
       "        vertical-align: middle;\n",
       "    }\n",
       "\n",
       "    .dataframe tbody tr th {\n",
       "        vertical-align: top;\n",
       "    }\n",
       "\n",
       "    .dataframe thead th {\n",
       "        text-align: right;\n",
       "    }\n",
       "</style>\n",
       "<table border=\"1\" class=\"dataframe\">\n",
       "  <thead>\n",
       "    <tr style=\"text-align: right;\">\n",
       "      <th></th>\n",
       "      <th>id</th>\n",
       "      <th>member_id</th>\n",
       "      <th>loan_amnt</th>\n",
       "      <th>funded_amnt</th>\n",
       "      <th>funded_amnt_inv</th>\n",
       "      <th>term</th>\n",
       "      <th>int_rate</th>\n",
       "      <th>installment</th>\n",
       "      <th>grade</th>\n",
       "      <th>sub_grade</th>\n",
       "      <th>...</th>\n",
       "      <th>num_tl_90g_dpd_24m</th>\n",
       "      <th>num_tl_op_past_12m</th>\n",
       "      <th>pct_tl_nvr_dlq</th>\n",
       "      <th>percent_bc_gt_75</th>\n",
       "      <th>pub_rec_bankruptcies</th>\n",
       "      <th>tax_liens</th>\n",
       "      <th>tot_hi_cred_lim</th>\n",
       "      <th>total_bal_ex_mort</th>\n",
       "      <th>total_bc_limit</th>\n",
       "      <th>total_il_high_credit_limit</th>\n",
       "    </tr>\n",
       "  </thead>\n",
       "  <tbody>\n",
       "    <tr>\n",
       "      <th>0</th>\n",
       "      <td>1077501</td>\n",
       "      <td>1296599</td>\n",
       "      <td>5000</td>\n",
       "      <td>5000</td>\n",
       "      <td>4975.0</td>\n",
       "      <td>36 months</td>\n",
       "      <td>10.65%</td>\n",
       "      <td>162.87</td>\n",
       "      <td>B</td>\n",
       "      <td>B2</td>\n",
       "      <td>...</td>\n",
       "      <td>NaN</td>\n",
       "      <td>NaN</td>\n",
       "      <td>NaN</td>\n",
       "      <td>NaN</td>\n",
       "      <td>0.0</td>\n",
       "      <td>0.0</td>\n",
       "      <td>NaN</td>\n",
       "      <td>NaN</td>\n",
       "      <td>NaN</td>\n",
       "      <td>NaN</td>\n",
       "    </tr>\n",
       "    <tr>\n",
       "      <th>1</th>\n",
       "      <td>1077430</td>\n",
       "      <td>1314167</td>\n",
       "      <td>2500</td>\n",
       "      <td>2500</td>\n",
       "      <td>2500.0</td>\n",
       "      <td>60 months</td>\n",
       "      <td>15.27%</td>\n",
       "      <td>59.83</td>\n",
       "      <td>C</td>\n",
       "      <td>C4</td>\n",
       "      <td>...</td>\n",
       "      <td>NaN</td>\n",
       "      <td>NaN</td>\n",
       "      <td>NaN</td>\n",
       "      <td>NaN</td>\n",
       "      <td>0.0</td>\n",
       "      <td>0.0</td>\n",
       "      <td>NaN</td>\n",
       "      <td>NaN</td>\n",
       "      <td>NaN</td>\n",
       "      <td>NaN</td>\n",
       "    </tr>\n",
       "    <tr>\n",
       "      <th>2</th>\n",
       "      <td>1077175</td>\n",
       "      <td>1313524</td>\n",
       "      <td>2400</td>\n",
       "      <td>2400</td>\n",
       "      <td>2400.0</td>\n",
       "      <td>36 months</td>\n",
       "      <td>15.96%</td>\n",
       "      <td>84.33</td>\n",
       "      <td>C</td>\n",
       "      <td>C5</td>\n",
       "      <td>...</td>\n",
       "      <td>NaN</td>\n",
       "      <td>NaN</td>\n",
       "      <td>NaN</td>\n",
       "      <td>NaN</td>\n",
       "      <td>0.0</td>\n",
       "      <td>0.0</td>\n",
       "      <td>NaN</td>\n",
       "      <td>NaN</td>\n",
       "      <td>NaN</td>\n",
       "      <td>NaN</td>\n",
       "    </tr>\n",
       "    <tr>\n",
       "      <th>3</th>\n",
       "      <td>1076863</td>\n",
       "      <td>1277178</td>\n",
       "      <td>10000</td>\n",
       "      <td>10000</td>\n",
       "      <td>10000.0</td>\n",
       "      <td>36 months</td>\n",
       "      <td>13.49%</td>\n",
       "      <td>339.31</td>\n",
       "      <td>C</td>\n",
       "      <td>C1</td>\n",
       "      <td>...</td>\n",
       "      <td>NaN</td>\n",
       "      <td>NaN</td>\n",
       "      <td>NaN</td>\n",
       "      <td>NaN</td>\n",
       "      <td>0.0</td>\n",
       "      <td>0.0</td>\n",
       "      <td>NaN</td>\n",
       "      <td>NaN</td>\n",
       "      <td>NaN</td>\n",
       "      <td>NaN</td>\n",
       "    </tr>\n",
       "    <tr>\n",
       "      <th>4</th>\n",
       "      <td>1075358</td>\n",
       "      <td>1311748</td>\n",
       "      <td>3000</td>\n",
       "      <td>3000</td>\n",
       "      <td>3000.0</td>\n",
       "      <td>60 months</td>\n",
       "      <td>12.69%</td>\n",
       "      <td>67.79</td>\n",
       "      <td>B</td>\n",
       "      <td>B5</td>\n",
       "      <td>...</td>\n",
       "      <td>NaN</td>\n",
       "      <td>NaN</td>\n",
       "      <td>NaN</td>\n",
       "      <td>NaN</td>\n",
       "      <td>0.0</td>\n",
       "      <td>0.0</td>\n",
       "      <td>NaN</td>\n",
       "      <td>NaN</td>\n",
       "      <td>NaN</td>\n",
       "      <td>NaN</td>\n",
       "    </tr>\n",
       "  </tbody>\n",
       "</table>\n",
       "<p>5 rows × 111 columns</p>\n",
       "</div>"
      ],
      "text/plain": [
       "        id  member_id  loan_amnt  funded_amnt  funded_amnt_inv        term  \\\n",
       "0  1077501    1296599       5000         5000           4975.0   36 months   \n",
       "1  1077430    1314167       2500         2500           2500.0   60 months   \n",
       "2  1077175    1313524       2400         2400           2400.0   36 months   \n",
       "3  1076863    1277178      10000        10000          10000.0   36 months   \n",
       "4  1075358    1311748       3000         3000           3000.0   60 months   \n",
       "\n",
       "  int_rate  installment grade sub_grade  ... num_tl_90g_dpd_24m  \\\n",
       "0   10.65%       162.87     B        B2  ...                NaN   \n",
       "1   15.27%        59.83     C        C4  ...                NaN   \n",
       "2   15.96%        84.33     C        C5  ...                NaN   \n",
       "3   13.49%       339.31     C        C1  ...                NaN   \n",
       "4   12.69%        67.79     B        B5  ...                NaN   \n",
       "\n",
       "  num_tl_op_past_12m pct_tl_nvr_dlq  percent_bc_gt_75 pub_rec_bankruptcies  \\\n",
       "0                NaN            NaN               NaN                  0.0   \n",
       "1                NaN            NaN               NaN                  0.0   \n",
       "2                NaN            NaN               NaN                  0.0   \n",
       "3                NaN            NaN               NaN                  0.0   \n",
       "4                NaN            NaN               NaN                  0.0   \n",
       "\n",
       "  tax_liens tot_hi_cred_lim total_bal_ex_mort total_bc_limit  \\\n",
       "0       0.0             NaN               NaN            NaN   \n",
       "1       0.0             NaN               NaN            NaN   \n",
       "2       0.0             NaN               NaN            NaN   \n",
       "3       0.0             NaN               NaN            NaN   \n",
       "4       0.0             NaN               NaN            NaN   \n",
       "\n",
       "  total_il_high_credit_limit  \n",
       "0                        NaN  \n",
       "1                        NaN  \n",
       "2                        NaN  \n",
       "3                        NaN  \n",
       "4                        NaN  \n",
       "\n",
       "[5 rows x 111 columns]"
      ]
     },
     "execution_count": 169,
     "metadata": {},
     "output_type": "execute_result"
    }
   ],
   "source": [
    "#Reading data from csv file using pandas\n",
    "loan = pd.read_csv(\"loan.csv\",low_memory=False)\n",
    "loan.head()"
   ]
  },
  {
   "cell_type": "code",
   "execution_count": 170,
   "id": "ebda2385",
   "metadata": {},
   "outputs": [
    {
     "data": {
      "text/plain": [
       "(39717, 111)"
      ]
     },
     "execution_count": 170,
     "metadata": {},
     "output_type": "execute_result"
    }
   ],
   "source": [
    "#checking the dimensions\n",
    "loan.shape"
   ]
  },
  {
   "cell_type": "code",
   "execution_count": 171,
   "id": "9c317932",
   "metadata": {},
   "outputs": [
    {
     "data": {
      "text/plain": [
       "id                                0\n",
       "member_id                         0\n",
       "loan_amnt                         0\n",
       "funded_amnt                       0\n",
       "funded_amnt_inv                   0\n",
       "                              ...  \n",
       "tax_liens                        39\n",
       "tot_hi_cred_lim               39717\n",
       "total_bal_ex_mort             39717\n",
       "total_bc_limit                39717\n",
       "total_il_high_credit_limit    39717\n",
       "Length: 111, dtype: int64"
      ]
     },
     "execution_count": 171,
     "metadata": {},
     "output_type": "execute_result"
    }
   ],
   "source": [
    "#checking the null counts across all the variables/columns of loan dataset\n",
    "loan.isnull().sum()"
   ]
  },
  {
   "cell_type": "markdown",
   "id": "30515ba5",
   "metadata": {},
   "source": [
    "OBSERVATION: There are lot of columns with all null values. Let us remove them."
   ]
  },
  {
   "cell_type": "code",
   "execution_count": 172,
   "id": "8e8edcfc",
   "metadata": {},
   "outputs": [
    {
     "data": {
      "text/plain": [
       "(39717, 57)"
      ]
     },
     "execution_count": 172,
     "metadata": {},
     "output_type": "execute_result"
    }
   ],
   "source": [
    "#dropping the columns which has all non-alpha values\n",
    "loan.dropna(axis = 1, how = 'all', inplace = True)\n",
    "loan.shape"
   ]
  },
  {
   "cell_type": "code",
   "execution_count": 173,
   "id": "126c0518",
   "metadata": {},
   "outputs": [
    {
     "name": "stdout",
     "output_type": "stream",
     "text": [
      "id                            39717\n",
      "member_id                     39717\n",
      "loan_amnt                       885\n",
      "funded_amnt                    1041\n",
      "funded_amnt_inv                8205\n",
      "term                              2\n",
      "int_rate                        371\n",
      "installment                   15383\n",
      "grade                             7\n",
      "sub_grade                        35\n",
      "emp_title                     28820\n",
      "emp_length                       11\n",
      "home_ownership                    5\n",
      "annual_inc                     5318\n",
      "verification_status               3\n",
      "issue_d                          55\n",
      "loan_status                       3\n",
      "pymnt_plan                        1\n",
      "url                           39717\n",
      "desc                          26527\n",
      "purpose                          14\n",
      "title                         19615\n",
      "zip_code                        823\n",
      "addr_state                       50\n",
      "dti                            2868\n",
      "delinq_2yrs                      11\n",
      "earliest_cr_line                526\n",
      "inq_last_6mths                    9\n",
      "mths_since_last_delinq           95\n",
      "mths_since_last_record          111\n",
      "open_acc                         40\n",
      "pub_rec                           5\n",
      "revol_bal                     21711\n",
      "revol_util                     1089\n",
      "total_acc                        82\n",
      "initial_list_status               1\n",
      "out_prncp                      1137\n",
      "out_prncp_inv                  1138\n",
      "total_pymnt                   37850\n",
      "total_pymnt_inv               37518\n",
      "total_rec_prncp                7976\n",
      "total_rec_int                 35148\n",
      "total_rec_late_fee             1356\n",
      "recoveries                     4040\n",
      "collection_recovery_fee        2616\n",
      "last_pymnt_d                    101\n",
      "last_pymnt_amnt               34930\n",
      "next_pymnt_d                      2\n",
      "last_credit_pull_d              106\n",
      "collections_12_mths_ex_med        1\n",
      "policy_code                       1\n",
      "application_type                  1\n",
      "acc_now_delinq                    1\n",
      "chargeoff_within_12_mths          1\n",
      "delinq_amnt                       1\n",
      "pub_rec_bankruptcies              3\n",
      "tax_liens                         1\n",
      "dtype: int64\n"
     ]
    }
   ],
   "source": [
    "#checking unique values across variables\n",
    "cols_unique = loan.nunique()\n",
    "print(cols_unique)"
   ]
  },
  {
   "cell_type": "markdown",
   "id": "49631408",
   "metadata": {},
   "source": [
    "OBSERVATION: There are lot of columns that have only single value. These variables do not help in the analysis. So let us remove these single valued columns."
   ]
  },
  {
   "cell_type": "code",
   "execution_count": 174,
   "id": "ad3c18d5",
   "metadata": {},
   "outputs": [
    {
     "data": {
      "text/plain": [
       "Index(['pymnt_plan', 'initial_list_status', 'collections_12_mths_ex_med',\n",
       "       'policy_code', 'application_type', 'acc_now_delinq',\n",
       "       'chargeoff_within_12_mths', 'delinq_amnt', 'tax_liens'],\n",
       "      dtype='object')"
      ]
     },
     "execution_count": 174,
     "metadata": {},
     "output_type": "execute_result"
    }
   ],
   "source": [
    "#identifying the single valued columns\n",
    "cols_unique_with1_todrop = cols_unique.loc[cols_unique.values == 1]\n",
    "cols_unique_with1_todrop.index"
   ]
  },
  {
   "cell_type": "code",
   "execution_count": 175,
   "id": "7363e79f",
   "metadata": {},
   "outputs": [
    {
     "data": {
      "text/plain": [
       "(39717, 48)"
      ]
     },
     "execution_count": 175,
     "metadata": {},
     "output_type": "execute_result"
    }
   ],
   "source": [
    "#dropping the single values columns\n",
    "loan.drop(columns=list(cols_unique_with1_todrop.index), inplace=True)\n",
    "loan.shape"
   ]
  },
  {
   "cell_type": "code",
   "execution_count": 176,
   "id": "ffde629a",
   "metadata": {},
   "outputs": [
    {
     "data": {
      "text/plain": [
       "Index(['id', 'member_id', 'loan_amnt', 'funded_amnt', 'funded_amnt_inv',\n",
       "       'term', 'int_rate', 'installment', 'grade', 'sub_grade', 'emp_title',\n",
       "       'emp_length', 'home_ownership', 'annual_inc', 'verification_status',\n",
       "       'issue_d', 'loan_status', 'url', 'desc', 'purpose', 'title', 'zip_code',\n",
       "       'addr_state', 'dti', 'delinq_2yrs', 'earliest_cr_line',\n",
       "       'inq_last_6mths', 'mths_since_last_delinq', 'mths_since_last_record',\n",
       "       'open_acc', 'pub_rec', 'revol_bal', 'revol_util', 'total_acc',\n",
       "       'out_prncp', 'out_prncp_inv', 'total_pymnt', 'total_pymnt_inv',\n",
       "       'total_rec_prncp', 'total_rec_int', 'total_rec_late_fee', 'recoveries',\n",
       "       'collection_recovery_fee', 'last_pymnt_d', 'last_pymnt_amnt',\n",
       "       'next_pymnt_d', 'last_credit_pull_d', 'pub_rec_bankruptcies'],\n",
       "      dtype='object')"
      ]
     },
     "execution_count": 176,
     "metadata": {},
     "output_type": "execute_result"
    }
   ],
   "source": [
    "#checking the remaining columns after dropping all single valued columns\n",
    "loan.columns"
   ]
  },
  {
   "cell_type": "markdown",
   "id": "99691425",
   "metadata": {},
   "source": [
    "OBSERVATION:  \n",
    "* Now we are remained with 48 columns. Of these columns, there are few columns which correspond to the post-approval of loan and are customer behavior variables.  \n",
    "* As we are analysing the loan applications and the driving factors of loan defaulting before the approval was done, these variables can be removed for our analysis.  \n",
    "* Let us go ahead and remove these customer behavior variables."
   ]
  },
  {
   "cell_type": "code",
   "execution_count": 177,
   "id": "99451d7c",
   "metadata": {},
   "outputs": [
    {
     "data": {
      "text/plain": [
       "(39717, 25)"
      ]
     },
     "execution_count": 177,
     "metadata": {},
     "output_type": "execute_result"
    }
   ],
   "source": [
    "#drop all customer behavior columns for our analysis which are post-approval attributes\n",
    "cust_behavior_drop = ['delinq_2yrs','earliest_cr_line','inq_last_6mths','open_acc','pub_rec','revol_bal',\n",
    "                 'revol_util','total_acc','out_prncp','out_prncp_inv','total_pymnt','total_pymnt_inv',\n",
    "                 'total_rec_prncp','total_rec_int','total_rec_late_fee','recoveries','collection_recovery_fee',\n",
    "                 'last_pymnt_d','last_pymnt_amnt','last_credit_pull_d',\n",
    "                 'mths_since_last_delinq', 'mths_since_last_record', 'next_pymnt_d']\n",
    "loan.drop(columns=cust_behavior_drop, inplace=True)\n",
    "loan.shape"
   ]
  },
  {
   "cell_type": "markdown",
   "id": "714777e1",
   "metadata": {},
   "source": [
    "loan.columns"
   ]
  },
  {
   "cell_type": "markdown",
   "id": "a9911ebe",
   "metadata": {},
   "source": [
    "OBSERVATION:  \n",
    "* Now we are remained with 25 columns.\n",
    "* Of all these columns, there are columns such as \"id\", \"member_id\", \"url\", \"title\", \"emp_title\", \"zip_code\", \"addr_state\". They do not contribute to the loan defaulting in anyway and hence are irrelevant for our analysis. So let us remove them.  \n",
    "* \"desc\" has description (text data) which is also not contributing to defaulting analysi. So let us remove this column.  \n",
    "* \"funded_amnt\" is also not required because we only need info as to how much is funded in actual. As we have \"funded_amnt_inv\" , we can remove the former column."
   ]
  },
  {
   "cell_type": "code",
   "execution_count": 178,
   "id": "e6130abc",
   "metadata": {},
   "outputs": [
    {
     "data": {
      "text/plain": [
       "(39717, 16)"
      ]
     },
     "execution_count": 178,
     "metadata": {},
     "output_type": "execute_result"
    }
   ],
   "source": [
    "#dropping all irrelevant columns for our analysis\n",
    "irrelevant_cols_to_drop = [\"id\", \"member_id\", \"url\", \"title\", \"emp_title\", \"zip_code\", \"addr_state\",\n",
    "                          \"desc\", \"funded_amnt\"]\n",
    "loan.drop(columns=irrelevant_cols_to_drop, inplace=True)\n",
    "loan.shape"
   ]
  },
  {
   "cell_type": "code",
   "execution_count": 179,
   "id": "ebda5b75",
   "metadata": {},
   "outputs": [
    {
     "data": {
      "text/plain": [
       "Index(['loan_amnt', 'funded_amnt_inv', 'term', 'int_rate', 'installment',\n",
       "       'grade', 'sub_grade', 'emp_length', 'home_ownership', 'annual_inc',\n",
       "       'verification_status', 'issue_d', 'loan_status', 'purpose', 'dti',\n",
       "       'pub_rec_bankruptcies'],\n",
       "      dtype='object')"
      ]
     },
     "execution_count": 179,
     "metadata": {},
     "output_type": "execute_result"
    }
   ],
   "source": [
    "#checking the columns after removing all the irrelevant columns\n",
    "loan.columns"
   ]
  },
  {
   "cell_type": "code",
   "execution_count": 180,
   "id": "6a4bc67e",
   "metadata": {},
   "outputs": [
    {
     "data": {
      "text/plain": [
       "Fully Paid     32950\n",
       "Charged Off     5627\n",
       "Current         1140\n",
       "Name: loan_status, dtype: int64"
      ]
     },
     "execution_count": 180,
     "metadata": {},
     "output_type": "execute_result"
    }
   ],
   "source": [
    "#checking loan status value's count\n",
    "loan.loan_status.value_counts()"
   ]
  },
  {
   "cell_type": "markdown",
   "id": "65cf518a",
   "metadata": {},
   "source": [
    "The analysis to predict who is likely to default can only be judged for the 'Fully Paid' and 'Charged Off' loans. So 'Current' loans should be discarded."
   ]
  },
  {
   "cell_type": "code",
   "execution_count": 181,
   "id": "f3cd9b04",
   "metadata": {},
   "outputs": [
    {
     "data": {
      "text/plain": [
       "array(['Fully Paid', 'Charged Off'], dtype=object)"
      ]
     },
     "execution_count": 181,
     "metadata": {},
     "output_type": "execute_result"
    }
   ],
   "source": [
    "#checking the unique values for loan status\n",
    "loan = loan[loan.loan_status != \"Current\"]\n",
    "loan.loan_status.unique()"
   ]
  },
  {
   "cell_type": "code",
   "execution_count": 182,
   "id": "d6d44047",
   "metadata": {},
   "outputs": [
    {
     "data": {
      "text/plain": [
       "(38577, 16)"
      ]
     },
     "execution_count": 182,
     "metadata": {},
     "output_type": "execute_result"
    }
   ],
   "source": [
    "loan.shape"
   ]
  },
  {
   "cell_type": "markdown",
   "id": "3b1ec02a",
   "metadata": {},
   "source": [
    "## Checking for missing values"
   ]
  },
  {
   "cell_type": "code",
   "execution_count": 183,
   "id": "84de95e2",
   "metadata": {},
   "outputs": [
    {
     "data": {
      "text/plain": [
       "loan_amnt               0.000000\n",
       "funded_amnt_inv         0.000000\n",
       "term                    0.000000\n",
       "int_rate                0.000000\n",
       "installment             0.000000\n",
       "grade                   0.000000\n",
       "sub_grade               0.000000\n",
       "emp_length              2.677761\n",
       "home_ownership          0.000000\n",
       "annual_inc              0.000000\n",
       "verification_status     0.000000\n",
       "issue_d                 0.000000\n",
       "loan_status             0.000000\n",
       "purpose                 0.000000\n",
       "dti                     0.000000\n",
       "pub_rec_bankruptcies    1.806776\n",
       "dtype: float64"
      ]
     },
     "execution_count": 183,
     "metadata": {},
     "output_type": "execute_result"
    }
   ],
   "source": [
    "(loan.isna().sum()/len(loan.index))*100"
   ]
  },
  {
   "cell_type": "markdown",
   "id": "87111751",
   "metadata": {},
   "source": [
    "Handling Missing Values:\n",
    "    Columns with missing values are 'emp_length' and 'pub_rec_bankruptcies'"
   ]
  },
  {
   "cell_type": "markdown",
   "id": "df2cf28f",
   "metadata": {},
   "source": [
    "Before handling missing value for emp_length, lets see what kind of data this column has."
   ]
  },
  {
   "cell_type": "code",
   "execution_count": 184,
   "id": "35c5bfe3",
   "metadata": {},
   "outputs": [
    {
     "name": "stdout",
     "output_type": "stream",
     "text": [
      "0    10+ years\n",
      "dtype: object\n"
     ]
    },
    {
     "data": {
      "text/plain": [
       "10+ years    8488\n",
       "< 1 year     4508\n",
       "2 years      4291\n",
       "3 years      4012\n",
       "4 years      3342\n",
       "5 years      3194\n",
       "1 year       3169\n",
       "6 years      2168\n",
       "7 years      1711\n",
       "8 years      1435\n",
       "9 years      1226\n",
       "Name: emp_length, dtype: int64"
      ]
     },
     "execution_count": 184,
     "metadata": {},
     "output_type": "execute_result"
    }
   ],
   "source": [
    "print(loan.emp_length.mode())\n",
    "loan.emp_length.value_counts()"
   ]
  },
  {
   "cell_type": "markdown",
   "id": "38cedb53",
   "metadata": {},
   "source": [
    "OBSERVATION: The above value counts of emp_length show that mode value has far higher frequncy than the next most frequent value.  \n",
    "This means that we can impute the missing values with the mode value as the missing values are in very low percentage. And hence, imputing with mode values doesn't affect the analysis."
   ]
  },
  {
   "cell_type": "code",
   "execution_count": 185,
   "id": "8975b2d1",
   "metadata": {},
   "outputs": [
    {
     "data": {
      "text/plain": [
       "0"
      ]
     },
     "execution_count": 185,
     "metadata": {},
     "output_type": "execute_result"
    }
   ],
   "source": [
    "loan.emp_length.fillna(loan.emp_length.mode()[0], inplace = True)\n",
    "loan.emp_length.isna().sum()"
   ]
  },
  {
   "cell_type": "code",
   "execution_count": 186,
   "id": "d0019b93",
   "metadata": {},
   "outputs": [
    {
     "name": "stdout",
     "output_type": "stream",
     "text": [
      "0    0.0\n",
      "dtype: float64\n"
     ]
    },
    {
     "data": {
      "text/plain": [
       "0.0    36238\n",
       "1.0     1637\n",
       "2.0        5\n",
       "Name: pub_rec_bankruptcies, dtype: int64"
      ]
     },
     "execution_count": 186,
     "metadata": {},
     "output_type": "execute_result"
    }
   ],
   "source": [
    "print(loan.pub_rec_bankruptcies.mode())\n",
    "loan.pub_rec_bankruptcies.value_counts()"
   ]
  },
  {
   "cell_type": "code",
   "execution_count": 187,
   "id": "5ee15d89",
   "metadata": {},
   "outputs": [
    {
     "data": {
      "text/plain": [
       "0"
      ]
     },
     "execution_count": 187,
     "metadata": {},
     "output_type": "execute_result"
    }
   ],
   "source": [
    "loan.pub_rec_bankruptcies.fillna(loan.pub_rec_bankruptcies.mode()[0], inplace = True)\n",
    "loan.pub_rec_bankruptcies.isna().sum()"
   ]
  },
  {
   "cell_type": "code",
   "execution_count": 188,
   "id": "875fd0d6",
   "metadata": {},
   "outputs": [
    {
     "data": {
      "text/html": [
       "<div>\n",
       "<style scoped>\n",
       "    .dataframe tbody tr th:only-of-type {\n",
       "        vertical-align: middle;\n",
       "    }\n",
       "\n",
       "    .dataframe tbody tr th {\n",
       "        vertical-align: top;\n",
       "    }\n",
       "\n",
       "    .dataframe thead th {\n",
       "        text-align: right;\n",
       "    }\n",
       "</style>\n",
       "<table border=\"1\" class=\"dataframe\">\n",
       "  <thead>\n",
       "    <tr style=\"text-align: right;\">\n",
       "      <th></th>\n",
       "      <th>loan_amnt</th>\n",
       "      <th>funded_amnt_inv</th>\n",
       "      <th>term</th>\n",
       "      <th>int_rate</th>\n",
       "      <th>installment</th>\n",
       "      <th>grade</th>\n",
       "      <th>sub_grade</th>\n",
       "      <th>emp_length</th>\n",
       "      <th>home_ownership</th>\n",
       "      <th>annual_inc</th>\n",
       "      <th>verification_status</th>\n",
       "      <th>issue_d</th>\n",
       "      <th>loan_status</th>\n",
       "      <th>purpose</th>\n",
       "      <th>dti</th>\n",
       "      <th>pub_rec_bankruptcies</th>\n",
       "    </tr>\n",
       "  </thead>\n",
       "  <tbody>\n",
       "    <tr>\n",
       "      <th>0</th>\n",
       "      <td>5000</td>\n",
       "      <td>4975.0</td>\n",
       "      <td>36 months</td>\n",
       "      <td>10.65%</td>\n",
       "      <td>162.87</td>\n",
       "      <td>B</td>\n",
       "      <td>B2</td>\n",
       "      <td>10+ years</td>\n",
       "      <td>RENT</td>\n",
       "      <td>24000.0</td>\n",
       "      <td>Verified</td>\n",
       "      <td>Dec-11</td>\n",
       "      <td>Fully Paid</td>\n",
       "      <td>credit_card</td>\n",
       "      <td>27.65</td>\n",
       "      <td>0.0</td>\n",
       "    </tr>\n",
       "    <tr>\n",
       "      <th>1</th>\n",
       "      <td>2500</td>\n",
       "      <td>2500.0</td>\n",
       "      <td>60 months</td>\n",
       "      <td>15.27%</td>\n",
       "      <td>59.83</td>\n",
       "      <td>C</td>\n",
       "      <td>C4</td>\n",
       "      <td>&lt; 1 year</td>\n",
       "      <td>RENT</td>\n",
       "      <td>30000.0</td>\n",
       "      <td>Source Verified</td>\n",
       "      <td>Dec-11</td>\n",
       "      <td>Charged Off</td>\n",
       "      <td>car</td>\n",
       "      <td>1.00</td>\n",
       "      <td>0.0</td>\n",
       "    </tr>\n",
       "    <tr>\n",
       "      <th>2</th>\n",
       "      <td>2400</td>\n",
       "      <td>2400.0</td>\n",
       "      <td>36 months</td>\n",
       "      <td>15.96%</td>\n",
       "      <td>84.33</td>\n",
       "      <td>C</td>\n",
       "      <td>C5</td>\n",
       "      <td>10+ years</td>\n",
       "      <td>RENT</td>\n",
       "      <td>12252.0</td>\n",
       "      <td>Not Verified</td>\n",
       "      <td>Dec-11</td>\n",
       "      <td>Fully Paid</td>\n",
       "      <td>small_business</td>\n",
       "      <td>8.72</td>\n",
       "      <td>0.0</td>\n",
       "    </tr>\n",
       "    <tr>\n",
       "      <th>3</th>\n",
       "      <td>10000</td>\n",
       "      <td>10000.0</td>\n",
       "      <td>36 months</td>\n",
       "      <td>13.49%</td>\n",
       "      <td>339.31</td>\n",
       "      <td>C</td>\n",
       "      <td>C1</td>\n",
       "      <td>10+ years</td>\n",
       "      <td>RENT</td>\n",
       "      <td>49200.0</td>\n",
       "      <td>Source Verified</td>\n",
       "      <td>Dec-11</td>\n",
       "      <td>Fully Paid</td>\n",
       "      <td>other</td>\n",
       "      <td>20.00</td>\n",
       "      <td>0.0</td>\n",
       "    </tr>\n",
       "    <tr>\n",
       "      <th>5</th>\n",
       "      <td>5000</td>\n",
       "      <td>5000.0</td>\n",
       "      <td>36 months</td>\n",
       "      <td>7.90%</td>\n",
       "      <td>156.46</td>\n",
       "      <td>A</td>\n",
       "      <td>A4</td>\n",
       "      <td>3 years</td>\n",
       "      <td>RENT</td>\n",
       "      <td>36000.0</td>\n",
       "      <td>Source Verified</td>\n",
       "      <td>Dec-11</td>\n",
       "      <td>Fully Paid</td>\n",
       "      <td>wedding</td>\n",
       "      <td>11.20</td>\n",
       "      <td>0.0</td>\n",
       "    </tr>\n",
       "    <tr>\n",
       "      <th>6</th>\n",
       "      <td>7000</td>\n",
       "      <td>7000.0</td>\n",
       "      <td>60 months</td>\n",
       "      <td>15.96%</td>\n",
       "      <td>170.08</td>\n",
       "      <td>C</td>\n",
       "      <td>C5</td>\n",
       "      <td>8 years</td>\n",
       "      <td>RENT</td>\n",
       "      <td>47004.0</td>\n",
       "      <td>Not Verified</td>\n",
       "      <td>Dec-11</td>\n",
       "      <td>Fully Paid</td>\n",
       "      <td>debt_consolidation</td>\n",
       "      <td>23.51</td>\n",
       "      <td>0.0</td>\n",
       "    </tr>\n",
       "    <tr>\n",
       "      <th>7</th>\n",
       "      <td>3000</td>\n",
       "      <td>3000.0</td>\n",
       "      <td>36 months</td>\n",
       "      <td>18.64%</td>\n",
       "      <td>109.43</td>\n",
       "      <td>E</td>\n",
       "      <td>E1</td>\n",
       "      <td>9 years</td>\n",
       "      <td>RENT</td>\n",
       "      <td>48000.0</td>\n",
       "      <td>Source Verified</td>\n",
       "      <td>Dec-11</td>\n",
       "      <td>Fully Paid</td>\n",
       "      <td>car</td>\n",
       "      <td>5.35</td>\n",
       "      <td>0.0</td>\n",
       "    </tr>\n",
       "    <tr>\n",
       "      <th>8</th>\n",
       "      <td>5600</td>\n",
       "      <td>5600.0</td>\n",
       "      <td>60 months</td>\n",
       "      <td>21.28%</td>\n",
       "      <td>152.39</td>\n",
       "      <td>F</td>\n",
       "      <td>F2</td>\n",
       "      <td>4 years</td>\n",
       "      <td>OWN</td>\n",
       "      <td>40000.0</td>\n",
       "      <td>Source Verified</td>\n",
       "      <td>Dec-11</td>\n",
       "      <td>Charged Off</td>\n",
       "      <td>small_business</td>\n",
       "      <td>5.55</td>\n",
       "      <td>0.0</td>\n",
       "    </tr>\n",
       "    <tr>\n",
       "      <th>9</th>\n",
       "      <td>5375</td>\n",
       "      <td>5350.0</td>\n",
       "      <td>60 months</td>\n",
       "      <td>12.69%</td>\n",
       "      <td>121.45</td>\n",
       "      <td>B</td>\n",
       "      <td>B5</td>\n",
       "      <td>&lt; 1 year</td>\n",
       "      <td>RENT</td>\n",
       "      <td>15000.0</td>\n",
       "      <td>Verified</td>\n",
       "      <td>Dec-11</td>\n",
       "      <td>Charged Off</td>\n",
       "      <td>other</td>\n",
       "      <td>18.08</td>\n",
       "      <td>0.0</td>\n",
       "    </tr>\n",
       "    <tr>\n",
       "      <th>10</th>\n",
       "      <td>6500</td>\n",
       "      <td>6500.0</td>\n",
       "      <td>60 months</td>\n",
       "      <td>14.65%</td>\n",
       "      <td>153.45</td>\n",
       "      <td>C</td>\n",
       "      <td>C3</td>\n",
       "      <td>5 years</td>\n",
       "      <td>OWN</td>\n",
       "      <td>72000.0</td>\n",
       "      <td>Not Verified</td>\n",
       "      <td>Dec-11</td>\n",
       "      <td>Fully Paid</td>\n",
       "      <td>debt_consolidation</td>\n",
       "      <td>16.12</td>\n",
       "      <td>0.0</td>\n",
       "    </tr>\n",
       "  </tbody>\n",
       "</table>\n",
       "</div>"
      ],
      "text/plain": [
       "    loan_amnt  funded_amnt_inv        term int_rate  installment grade  \\\n",
       "0        5000           4975.0   36 months   10.65%       162.87     B   \n",
       "1        2500           2500.0   60 months   15.27%        59.83     C   \n",
       "2        2400           2400.0   36 months   15.96%        84.33     C   \n",
       "3       10000          10000.0   36 months   13.49%       339.31     C   \n",
       "5        5000           5000.0   36 months    7.90%       156.46     A   \n",
       "6        7000           7000.0   60 months   15.96%       170.08     C   \n",
       "7        3000           3000.0   36 months   18.64%       109.43     E   \n",
       "8        5600           5600.0   60 months   21.28%       152.39     F   \n",
       "9        5375           5350.0   60 months   12.69%       121.45     B   \n",
       "10       6500           6500.0   60 months   14.65%       153.45     C   \n",
       "\n",
       "   sub_grade emp_length home_ownership  annual_inc verification_status  \\\n",
       "0         B2  10+ years           RENT     24000.0            Verified   \n",
       "1         C4   < 1 year           RENT     30000.0     Source Verified   \n",
       "2         C5  10+ years           RENT     12252.0        Not Verified   \n",
       "3         C1  10+ years           RENT     49200.0     Source Verified   \n",
       "5         A4    3 years           RENT     36000.0     Source Verified   \n",
       "6         C5    8 years           RENT     47004.0        Not Verified   \n",
       "7         E1    9 years           RENT     48000.0     Source Verified   \n",
       "8         F2    4 years            OWN     40000.0     Source Verified   \n",
       "9         B5   < 1 year           RENT     15000.0            Verified   \n",
       "10        C3    5 years            OWN     72000.0        Not Verified   \n",
       "\n",
       "   issue_d  loan_status             purpose    dti  pub_rec_bankruptcies  \n",
       "0   Dec-11   Fully Paid         credit_card  27.65                   0.0  \n",
       "1   Dec-11  Charged Off                 car   1.00                   0.0  \n",
       "2   Dec-11   Fully Paid      small_business   8.72                   0.0  \n",
       "3   Dec-11   Fully Paid               other  20.00                   0.0  \n",
       "5   Dec-11   Fully Paid             wedding  11.20                   0.0  \n",
       "6   Dec-11   Fully Paid  debt_consolidation  23.51                   0.0  \n",
       "7   Dec-11   Fully Paid                 car   5.35                   0.0  \n",
       "8   Dec-11  Charged Off      small_business   5.55                   0.0  \n",
       "9   Dec-11  Charged Off               other  18.08                   0.0  \n",
       "10  Dec-11   Fully Paid  debt_consolidation  16.12                   0.0  "
      ]
     },
     "execution_count": 188,
     "metadata": {},
     "output_type": "execute_result"
    }
   ],
   "source": [
    "loan.head(10)"
   ]
  },
  {
   "cell_type": "markdown",
   "id": "e0a78d3d",
   "metadata": {},
   "source": [
    "## Standardizing the data"
   ]
  },
  {
   "cell_type": "markdown",
   "id": "b5bc7d0b",
   "metadata": {},
   "source": [
    "\"int_rate\" column is suffixed with '%' and hence it can be standardized."
   ]
  },
  {
   "cell_type": "code",
   "execution_count": 189,
   "id": "4d4e8443",
   "metadata": {},
   "outputs": [],
   "source": [
    "loan.int_rate = pd.to_numeric(loan.int_rate.apply(lambda x : x.split('%')[0]))"
   ]
  },
  {
   "cell_type": "markdown",
   "id": "6fe61a71",
   "metadata": {},
   "source": [
    "\"emp_length\" has < 1 year and it can be assumed as 0 and 10+ years can be assumed as 10. And hence it can be standardized."
   ]
  },
  {
   "cell_type": "code",
   "execution_count": 190,
   "id": "ccd58740",
   "metadata": {},
   "outputs": [],
   "source": [
    "loan.emp_length = pd.to_numeric(loan.emp_length.apply(lambda x: 0 if \"<\" in x else (x.split('+')[0] if \"+\" in x else x.split()[0])))"
   ]
  },
  {
   "cell_type": "code",
   "execution_count": 191,
   "id": "5341aeff",
   "metadata": {},
   "outputs": [
    {
     "data": {
      "text/html": [
       "<div>\n",
       "<style scoped>\n",
       "    .dataframe tbody tr th:only-of-type {\n",
       "        vertical-align: middle;\n",
       "    }\n",
       "\n",
       "    .dataframe tbody tr th {\n",
       "        vertical-align: top;\n",
       "    }\n",
       "\n",
       "    .dataframe thead th {\n",
       "        text-align: right;\n",
       "    }\n",
       "</style>\n",
       "<table border=\"1\" class=\"dataframe\">\n",
       "  <thead>\n",
       "    <tr style=\"text-align: right;\">\n",
       "      <th></th>\n",
       "      <th>loan_amnt</th>\n",
       "      <th>funded_amnt_inv</th>\n",
       "      <th>term</th>\n",
       "      <th>int_rate</th>\n",
       "      <th>installment</th>\n",
       "      <th>grade</th>\n",
       "      <th>sub_grade</th>\n",
       "      <th>emp_length</th>\n",
       "      <th>home_ownership</th>\n",
       "      <th>annual_inc</th>\n",
       "      <th>verification_status</th>\n",
       "      <th>issue_d</th>\n",
       "      <th>loan_status</th>\n",
       "      <th>purpose</th>\n",
       "      <th>dti</th>\n",
       "      <th>pub_rec_bankruptcies</th>\n",
       "    </tr>\n",
       "  </thead>\n",
       "  <tbody>\n",
       "    <tr>\n",
       "      <th>0</th>\n",
       "      <td>5000</td>\n",
       "      <td>4975.0</td>\n",
       "      <td>36 months</td>\n",
       "      <td>10.65</td>\n",
       "      <td>162.87</td>\n",
       "      <td>B</td>\n",
       "      <td>B2</td>\n",
       "      <td>10</td>\n",
       "      <td>RENT</td>\n",
       "      <td>24000.0</td>\n",
       "      <td>Verified</td>\n",
       "      <td>Dec-11</td>\n",
       "      <td>Fully Paid</td>\n",
       "      <td>credit_card</td>\n",
       "      <td>27.65</td>\n",
       "      <td>0.0</td>\n",
       "    </tr>\n",
       "    <tr>\n",
       "      <th>1</th>\n",
       "      <td>2500</td>\n",
       "      <td>2500.0</td>\n",
       "      <td>60 months</td>\n",
       "      <td>15.27</td>\n",
       "      <td>59.83</td>\n",
       "      <td>C</td>\n",
       "      <td>C4</td>\n",
       "      <td>0</td>\n",
       "      <td>RENT</td>\n",
       "      <td>30000.0</td>\n",
       "      <td>Source Verified</td>\n",
       "      <td>Dec-11</td>\n",
       "      <td>Charged Off</td>\n",
       "      <td>car</td>\n",
       "      <td>1.00</td>\n",
       "      <td>0.0</td>\n",
       "    </tr>\n",
       "    <tr>\n",
       "      <th>2</th>\n",
       "      <td>2400</td>\n",
       "      <td>2400.0</td>\n",
       "      <td>36 months</td>\n",
       "      <td>15.96</td>\n",
       "      <td>84.33</td>\n",
       "      <td>C</td>\n",
       "      <td>C5</td>\n",
       "      <td>10</td>\n",
       "      <td>RENT</td>\n",
       "      <td>12252.0</td>\n",
       "      <td>Not Verified</td>\n",
       "      <td>Dec-11</td>\n",
       "      <td>Fully Paid</td>\n",
       "      <td>small_business</td>\n",
       "      <td>8.72</td>\n",
       "      <td>0.0</td>\n",
       "    </tr>\n",
       "    <tr>\n",
       "      <th>3</th>\n",
       "      <td>10000</td>\n",
       "      <td>10000.0</td>\n",
       "      <td>36 months</td>\n",
       "      <td>13.49</td>\n",
       "      <td>339.31</td>\n",
       "      <td>C</td>\n",
       "      <td>C1</td>\n",
       "      <td>10</td>\n",
       "      <td>RENT</td>\n",
       "      <td>49200.0</td>\n",
       "      <td>Source Verified</td>\n",
       "      <td>Dec-11</td>\n",
       "      <td>Fully Paid</td>\n",
       "      <td>other</td>\n",
       "      <td>20.00</td>\n",
       "      <td>0.0</td>\n",
       "    </tr>\n",
       "    <tr>\n",
       "      <th>5</th>\n",
       "      <td>5000</td>\n",
       "      <td>5000.0</td>\n",
       "      <td>36 months</td>\n",
       "      <td>7.90</td>\n",
       "      <td>156.46</td>\n",
       "      <td>A</td>\n",
       "      <td>A4</td>\n",
       "      <td>3</td>\n",
       "      <td>RENT</td>\n",
       "      <td>36000.0</td>\n",
       "      <td>Source Verified</td>\n",
       "      <td>Dec-11</td>\n",
       "      <td>Fully Paid</td>\n",
       "      <td>wedding</td>\n",
       "      <td>11.20</td>\n",
       "      <td>0.0</td>\n",
       "    </tr>\n",
       "  </tbody>\n",
       "</table>\n",
       "</div>"
      ],
      "text/plain": [
       "   loan_amnt  funded_amnt_inv        term  int_rate  installment grade  \\\n",
       "0       5000           4975.0   36 months     10.65       162.87     B   \n",
       "1       2500           2500.0   60 months     15.27        59.83     C   \n",
       "2       2400           2400.0   36 months     15.96        84.33     C   \n",
       "3      10000          10000.0   36 months     13.49       339.31     C   \n",
       "5       5000           5000.0   36 months      7.90       156.46     A   \n",
       "\n",
       "  sub_grade  emp_length home_ownership  annual_inc verification_status  \\\n",
       "0        B2          10           RENT     24000.0            Verified   \n",
       "1        C4           0           RENT     30000.0     Source Verified   \n",
       "2        C5          10           RENT     12252.0        Not Verified   \n",
       "3        C1          10           RENT     49200.0     Source Verified   \n",
       "5        A4           3           RENT     36000.0     Source Verified   \n",
       "\n",
       "  issue_d  loan_status         purpose    dti  pub_rec_bankruptcies  \n",
       "0  Dec-11   Fully Paid     credit_card  27.65                   0.0  \n",
       "1  Dec-11  Charged Off             car   1.00                   0.0  \n",
       "2  Dec-11   Fully Paid  small_business   8.72                   0.0  \n",
       "3  Dec-11   Fully Paid           other  20.00                   0.0  \n",
       "5  Dec-11   Fully Paid         wedding  11.20                   0.0  "
      ]
     },
     "execution_count": 191,
     "metadata": {},
     "output_type": "execute_result"
    }
   ],
   "source": [
    "loan.head()"
   ]
  },
  {
   "cell_type": "markdown",
   "id": "bb2cb56d",
   "metadata": {},
   "source": [
    "## Outlier Treatment"
   ]
  },
  {
   "cell_type": "code",
   "execution_count": 192,
   "id": "884f115e",
   "metadata": {},
   "outputs": [
    {
     "data": {
      "text/plain": [
       "<AxesSubplot:ylabel='Frequency'>"
      ]
     },
     "execution_count": 192,
     "metadata": {},
     "output_type": "execute_result"
    },
    {
     "data": {
      "image/png": "[encoded data removed]",
      "text/plain": [
       "<Figure size 432x288 with 1 Axes>"
      ]
     },
     "metadata": {
      "needs_background": "light"
     },
     "output_type": "display_data"
    }
   ],
   "source": [
    "loan.annual_inc.plot.hist(bins=50)"
   ]
  },
  {
   "cell_type": "code",
   "execution_count": 193,
   "id": "6aa43082",
   "metadata": {},
   "outputs": [
    {
     "data": {
      "text/plain": [
       "<AxesSubplot:xlabel='annual_inc'>"
      ]
     },
     "execution_count": 193,
     "metadata": {},
     "output_type": "execute_result"
    },
    {
     "data": {
      "image/png": "[encoded data removed]",
      "text/plain": [
       "<Figure size 432x288 with 1 Axes>"
      ]
     },
     "metadata": {
      "needs_background": "light"
     },
     "output_type": "display_data"
    }
   ],
   "source": [
    "sns.boxplot(data=loan, x=\"annual_inc\")"
   ]
  },
  {
   "cell_type": "markdown",
   "id": "9fd6c897",
   "metadata": {},
   "source": [
    "OBSERVATION: There are visibly outliers being identified in the boxplot. Let us remove them.\n",
    "Let us see the quantile information."
   ]
  },
  {
   "cell_type": "code",
   "execution_count": 194,
   "id": "7f97250f",
   "metadata": {},
   "outputs": [
    {
     "data": {
      "text/plain": [
       "0.25     40000.0\n",
       "0.50     58868.0\n",
       "0.75     82000.0\n",
       "0.90    115000.0\n",
       "0.95    140004.0\n",
       "0.97    165000.0\n",
       "0.98    187000.0\n",
       "0.99    234144.0\n",
       "Name: annual_inc, dtype: float64"
      ]
     },
     "execution_count": 194,
     "metadata": {},
     "output_type": "execute_result"
    }
   ],
   "source": [
    "quantile_info = loan.annual_inc.quantile([0.25, 0.5, 0.75,0.90, 0.95, 0.97,0.98, 0.99])\n",
    "quantile_info"
   ]
  },
  {
   "cell_type": "markdown",
   "id": "11326791",
   "metadata": {},
   "source": [
    "OBSERVATION: The values after 95 percentile is clearly disconnected from the normal distribution and the values are skewed at the right side.  \n",
    "So, let us remove outliers beyong 95 percentile."
   ]
  },
  {
   "cell_type": "code",
   "execution_count": 195,
   "id": "09b2866c",
   "metadata": {},
   "outputs": [],
   "source": [
    "annual_inc_95 = loan['annual_inc'].quantile(0.95)\n",
    "loan = loan[loan.annual_inc <= annual_inc_95]"
   ]
  },
  {
   "cell_type": "code",
   "execution_count": 196,
   "id": "3620d526",
   "metadata": {},
   "outputs": [
    {
     "data": {
      "image/png": "[encoded data removed]",
      "text/plain": [
       "<Figure size 432x288 with 1 Axes>"
      ]
     },
     "metadata": {
      "needs_background": "light"
     },
     "output_type": "display_data"
    }
   ],
   "source": [
    "sns.boxplot(data=loan, x=\"annual_inc\")\n",
    "plt.show()"
   ]
  },
  {
   "cell_type": "code",
   "execution_count": 197,
   "id": "8aab882c",
   "metadata": {},
   "outputs": [
    {
     "data": {
      "image/png": "[encoded data removed]",
      "text/plain": [
       "<Figure size 432x288 with 1 Axes>"
      ]
     },
     "metadata": {
      "needs_background": "light"
     },
     "output_type": "display_data"
    },
    {
     "data": {
      "text/plain": [
       "count    36654.000000\n",
       "mean        11.888080\n",
       "std          3.667257\n",
       "min          5.420000\n",
       "25%          8.940000\n",
       "50%         11.710000\n",
       "75%         14.270000\n",
       "max         24.400000\n",
       "Name: int_rate, dtype: float64"
      ]
     },
     "execution_count": 197,
     "metadata": {},
     "output_type": "execute_result"
    }
   ],
   "source": [
    "sns.boxplot(data=loan, x=\"int_rate\")\n",
    "plt.xlabel('Interest Rate')\n",
    "plt.show()\n",
    "loan.int_rate.describe()"
   ]
  },
  {
   "cell_type": "markdown",
   "id": "e96fcfa5",
   "metadata": {},
   "source": [
    "OBSERVATION:  \n",
    "* Average interest rate is 12 %. After 75%, interest rate rose up to 25% from 15%.  \n",
    "* The above distribution of \"annual_inc\" looks good. Lets analyze other numerical variables such as dti, loan_amnt and funded_amnt_inv which may have outliers."
   ]
  },
  {
   "cell_type": "code",
   "execution_count": 198,
   "id": "0f825706",
   "metadata": {},
   "outputs": [
    {
     "data": {
      "image/png": "[encoded data removed]",
      "text/plain": [
       "<Figure size 432x288 with 1 Axes>"
      ]
     },
     "metadata": {
      "needs_background": "light"
     },
     "output_type": "display_data"
    }
   ],
   "source": [
    "sns.boxplot(data=loan, x=\"dti\")\n",
    "plt.show()"
   ]
  },
  {
   "cell_type": "code",
   "execution_count": 199,
   "id": "e3ba10f3",
   "metadata": {},
   "outputs": [
    {
     "data": {
      "image/png": "[encoded data removed]",
      "text/plain": [
       "<Figure size 432x288 with 1 Axes>"
      ]
     },
     "metadata": {
      "needs_background": "light"
     },
     "output_type": "display_data"
    }
   ],
   "source": [
    "sns.boxplot(data=loan, x=\"loan_amnt\")\n",
    "plt.show()"
   ]
  },
  {
   "cell_type": "code",
   "execution_count": 200,
   "id": "1897ae39",
   "metadata": {},
   "outputs": [
    {
     "data": {
      "text/plain": [
       "0.500     9250.0\n",
       "0.750    15000.0\n",
       "0.900    20000.0\n",
       "0.950    25000.0\n",
       "0.970    25475.0\n",
       "0.975    28000.0\n",
       "0.980    30000.0\n",
       "0.990    35000.0\n",
       "1.000    35000.0\n",
       "Name: loan_amnt, dtype: float64"
      ]
     },
     "execution_count": 200,
     "metadata": {},
     "output_type": "execute_result"
    }
   ],
   "source": [
    "loan.loan_amnt.quantile([0.5,0.75,0.90,0.95,0.97,0.975, 0.98, 0.99, 1.0])"
   ]
  },
  {
   "cell_type": "code",
   "execution_count": 201,
   "id": "b93d40d2",
   "metadata": {},
   "outputs": [
    {
     "data": {
      "image/png": "[encoded data removed]",
      "text/plain": [
       "<Figure size 432x288 with 1 Axes>"
      ]
     },
     "metadata": {
      "needs_background": "light"
     },
     "output_type": "display_data"
    }
   ],
   "source": [
    "sns.boxplot(data=loan, x=\"funded_amnt_inv\")\n",
    "plt.show()"
   ]
  },
  {
   "cell_type": "code",
   "execution_count": 202,
   "id": "8e748515",
   "metadata": {},
   "outputs": [
    {
     "data": {
      "text/plain": [
       "0.500     8375.000000\n",
       "0.750    13623.731415\n",
       "0.900    19750.000000\n",
       "0.950    23941.875589\n",
       "0.970    24975.000000\n",
       "0.975    25350.000000\n",
       "0.980    27950.000000\n",
       "0.990    31954.028576\n",
       "1.000    35000.000000\n",
       "Name: funded_amnt_inv, dtype: float64"
      ]
     },
     "execution_count": 202,
     "metadata": {},
     "output_type": "execute_result"
    }
   ],
   "source": [
    "loan.funded_amnt_inv.quantile([0.5,0.75,0.90,0.95,0.97,0.975, 0.98, 0.99, 1.0])"
   ]
  },
  {
   "cell_type": "markdown",
   "id": "0b827ba5",
   "metadata": {},
   "source": [
    "OBSERVATION:It is clear that there are few values far from normal distribution. However, the distribution is quite continuous. And, hence, there is no need to remove outliers for 'loan_amnt' and 'funded_amnt_inv'"
   ]
  },
  {
   "cell_type": "markdown",
   "id": "97c6a589",
   "metadata": {},
   "source": [
    "## Visualizing Categorical Data"
   ]
  },
  {
   "cell_type": "code",
   "execution_count": 203,
   "id": "66b6c8ae",
   "metadata": {},
   "outputs": [
    {
     "data": {
      "image/png": "[encoded data removed]",
      "text/plain": [
       "<Figure size 432x288 with 1 Axes>"
      ]
     },
     "metadata": {
      "needs_background": "light"
     },
     "output_type": "display_data"
    }
   ],
   "source": [
    "sns.countplot(x = 'loan_status', data = loan)\n",
    "plt.xlabel('Loan Status')\n",
    "plt.show()"
   ]
  },
  {
   "cell_type": "code",
   "execution_count": 204,
   "id": "21383079",
   "metadata": {},
   "outputs": [
    {
     "data": {
      "text/plain": [
       "Fully Paid     0.852185\n",
       "Charged Off    0.147815\n",
       "Name: loan_status, dtype: float64"
      ]
     },
     "execution_count": 204,
     "metadata": {},
     "output_type": "execute_result"
    }
   ],
   "source": [
    "loan.loan_status.value_counts(normalize=True)"
   ]
  },
  {
   "attachments": {},
   "cell_type": "markdown",
   "id": "8e47ec04",
   "metadata": {},
   "source": [
    "OBSERVATION:  \n",
    "* Majority of the loans are fully paid.\n",
    "* About 14% are defaulting"
   ]
  },
  {
   "cell_type": "markdown",
   "id": "65de31d1",
   "metadata": {},
   "source": [
    "#### Analyzing 'grade'"
   ]
  },
  {
   "cell_type": "code",
   "execution_count": 205,
   "id": "80754dc9",
   "metadata": {},
   "outputs": [],
   "source": [
    "loan.sub_grade = pd.to_numeric(loan.sub_grade.apply(lambda x : x[-1]))\n"
   ]
  },
  {
   "cell_type": "code",
   "execution_count": 206,
   "id": "1352db1e",
   "metadata": {},
   "outputs": [
    {
     "data": {
      "text/plain": [
       "0    2\n",
       "1    4\n",
       "2    5\n",
       "3    1\n",
       "5    4\n",
       "Name: sub_grade, dtype: int64"
      ]
     },
     "execution_count": 206,
     "metadata": {},
     "output_type": "execute_result"
    }
   ],
   "source": [
    "loan['sub_grade'].head()"
   ]
  },
  {
   "cell_type": "code",
   "execution_count": 207,
   "id": "ea5f77a6",
   "metadata": {},
   "outputs": [
    {
     "data": {
      "text/plain": [
       "B    1376\n",
       "C    1325\n",
       "D    1080\n",
       "E     660\n",
       "A     593\n",
       "F     289\n",
       "G      95\n",
       "Name: grade, dtype: int64"
      ]
     },
     "execution_count": 207,
     "metadata": {},
     "output_type": "execute_result"
    }
   ],
   "source": [
    "loan[loan.loan_status == 'Charged Off'].grade.value_counts()"
   ]
  },
  {
   "cell_type": "code",
   "execution_count": 208,
   "id": "fcec95b9",
   "metadata": {},
   "outputs": [
    {
     "data": {
      "text/plain": [
       "<AxesSubplot:xlabel='grade', ylabel='count'>"
      ]
     },
     "execution_count": 208,
     "metadata": {},
     "output_type": "execute_result"
    },
    {
     "data": {
      "image/png": "[encoded data removed]",
      "text/plain": [
       "<Figure size 1080x720 with 1 Axes>"
      ]
     },
     "metadata": {
      "needs_background": "light"
     },
     "output_type": "display_data"
    }
   ],
   "source": [
    "fig, ax = plt.subplots(figsize=(15,10))\n",
    "sns.countplot(x = 'grade', order = ['A', 'B', 'C', 'D', 'E', 'F', 'G'] , hue = 'sub_grade', data = loan[loan.loan_status == 'Charged Off'])"
   ]
  },
  {
   "cell_type": "markdown",
   "id": "b6eba3c1",
   "metadata": {},
   "source": [
    "OBSERVATION: By looking at the above diagram, it is evident that probability of defaulting is more if loan applicant grade is 'B'"
   ]
  },
  {
   "cell_type": "markdown",
   "id": "687f5715",
   "metadata": {},
   "source": [
    "#### Analyzing 'home_ownership'"
   ]
  },
  {
   "cell_type": "code",
   "execution_count": 209,
   "id": "646e0cc5",
   "metadata": {},
   "outputs": [
    {
     "data": {
      "text/plain": [
       "RENT        18031\n",
       "MORTGAGE    15675\n",
       "OWN          2852\n",
       "OTHER          93\n",
       "NONE            3\n",
       "Name: home_ownership, dtype: int64"
      ]
     },
     "execution_count": 209,
     "metadata": {},
     "output_type": "execute_result"
    }
   ],
   "source": [
    "#checking unique values for home_ownership\n",
    "loan['home_ownership'].value_counts()"
   ]
  },
  {
   "cell_type": "markdown",
   "id": "3de930ae",
   "metadata": {},
   "source": [
    "OBSERVATION:There are only 3 records with 'NONE' value in the data. So let us replace the value with 'OTHER'"
   ]
  },
  {
   "cell_type": "code",
   "execution_count": 210,
   "id": "a2b48383",
   "metadata": {},
   "outputs": [],
   "source": [
    "#replacing 'NONE' with 'OTHERS'\n",
    "loan['home_ownership'].replace(to_replace = ['NONE'],value='OTHER',inplace = True)"
   ]
  },
  {
   "cell_type": "code",
   "execution_count": 211,
   "id": "4239b789",
   "metadata": {},
   "outputs": [
    {
     "data": {
      "text/plain": [
       "RENT        18031\n",
       "MORTGAGE    15675\n",
       "OWN          2852\n",
       "OTHER          96\n",
       "Name: home_ownership, dtype: int64"
      ]
     },
     "execution_count": 211,
     "metadata": {},
     "output_type": "execute_result"
    }
   ],
   "source": [
    "loan['home_ownership'].value_counts()"
   ]
  },
  {
   "cell_type": "code",
   "execution_count": 212,
   "id": "da3590dc",
   "metadata": {},
   "outputs": [
    {
     "data": {
      "text/plain": [
       "RENT        2773\n",
       "MORTGAGE    2194\n",
       "OWN          434\n",
       "OTHER         17\n",
       "Name: home_ownership, dtype: int64"
      ]
     },
     "execution_count": 212,
     "metadata": {},
     "output_type": "execute_result"
    }
   ],
   "source": [
    "loan[loan.loan_status == 'Charged Off'].home_ownership.value_counts()"
   ]
  },
  {
   "cell_type": "code",
   "execution_count": 213,
   "id": "8b811b2a",
   "metadata": {},
   "outputs": [
    {
     "data": {
      "text/plain": [
       "Text(0.5, 0, 'Home Ownership')"
      ]
     },
     "execution_count": 213,
     "metadata": {},
     "output_type": "execute_result"
    },
    {
     "data": {
      "image/png": "[encoded data removed]",
      "text/plain": [
       "<Figure size 576x432 with 1 Axes>"
      ]
     },
     "metadata": {
      "needs_background": "light"
     },
     "output_type": "display_data"
    }
   ],
   "source": [
    "fig, ax = plt.subplots(figsize = (8,6))\n",
    "ax.set(yscale = 'log')\n",
    "sns.countplot(x='home_ownership', data=loan[loan['loan_status']=='Charged Off'])\n",
    "plt.xlabel('Home Ownership')"
   ]
  },
  {
   "cell_type": "markdown",
   "id": "ec95d0ff",
   "metadata": {},
   "source": [
    "OBSERVATION: By looking at the above diagram, it is evident that probability of defaulting is more if loan applicant's home ownership is 'RENT'"
   ]
  },
  {
   "cell_type": "markdown",
   "id": "1e927fa7",
   "metadata": {},
   "source": [
    "#### Analyzing 'purpose'"
   ]
  },
  {
   "cell_type": "code",
   "execution_count": 214,
   "id": "2f5b0447",
   "metadata": {},
   "outputs": [
    {
     "data": {
      "text/plain": [
       "debt_consolidation    2677\n",
       "other                  605\n",
       "credit_card            519\n",
       "small_business         454\n",
       "home_improvement       322\n",
       "major_purchase         217\n",
       "car                    159\n",
       "medical                104\n",
       "wedding                 92\n",
       "moving                  90\n",
       "house                   55\n",
       "educational             54\n",
       "vacation                52\n",
       "renewable_energy        18\n",
       "Name: purpose, dtype: int64"
      ]
     },
     "execution_count": 214,
     "metadata": {},
     "output_type": "execute_result"
    }
   ],
   "source": [
    "loan[loan.loan_status == 'Charged Off'].purpose.value_counts()"
   ]
  },
  {
   "cell_type": "code",
   "execution_count": 215,
   "id": "168e08fd",
   "metadata": {},
   "outputs": [
    {
     "data": {
      "image/png": "[encoded data removed]",
      "text/plain": [
       "<Figure size 1080x720 with 1 Axes>"
      ]
     },
     "metadata": {
      "needs_background": "light"
     },
     "output_type": "display_data"
    }
   ],
   "source": [
    "fig, ax = plt.subplots(figsize = (15,10))\n",
    "sns.countplot(y='purpose', data=loan[loan['loan_status']=='Charged Off'])\n",
    "plt.show()"
   ]
  },
  {
   "cell_type": "markdown",
   "id": "b04d2bd1",
   "metadata": {},
   "source": [
    "OBSERVATION: By looking at the above diagram, it is evident that probability of defaulting is more if loan applicant's purpose is debt consolidation."
   ]
  },
  {
   "cell_type": "markdown",
   "id": "032e051b",
   "metadata": {},
   "source": [
    "#### Analyzing 'term'"
   ]
  },
  {
   "cell_type": "code",
   "execution_count": 216,
   "id": "60724c68",
   "metadata": {},
   "outputs": [
    {
     "data": {
      "text/plain": [
       " 36 months    3114\n",
       " 60 months    2304\n",
       "Name: term, dtype: int64"
      ]
     },
     "execution_count": 216,
     "metadata": {},
     "output_type": "execute_result"
    }
   ],
   "source": [
    "loan[loan['loan_status']=='Charged Off'].term.value_counts()"
   ]
  },
  {
   "cell_type": "code",
   "execution_count": 217,
   "id": "d36a591a",
   "metadata": {},
   "outputs": [
    {
     "data": {
      "image/png": "[encoded data removed]",
      "text/plain": [
       "<Figure size 432x288 with 1 Axes>"
      ]
     },
     "metadata": {
      "needs_background": "light"
     },
     "output_type": "display_data"
    }
   ],
   "source": [
    "sns.countplot(x='term', data=loan[loan['loan_status']=='Charged Off'])\n",
    "plt.show()"
   ]
  },
  {
   "cell_type": "markdown",
   "id": "07ca174d",
   "metadata": {},
   "source": [
    "OBSERVATION: By looking at the above diagram, it is evident that probability of defaulting is more if loan applicant's term is 36 months."
   ]
  },
  {
   "cell_type": "markdown",
   "id": "d5a73484",
   "metadata": {},
   "source": [
    "#### Analyzing 'verification_status'"
   ]
  },
  {
   "cell_type": "code",
   "execution_count": 218,
   "id": "ed78e2ec",
   "metadata": {},
   "outputs": [
    {
     "data": {
      "text/plain": [
       "Not Verified       2096\n",
       "Verified           1949\n",
       "Source Verified    1373\n",
       "Name: verification_status, dtype: int64"
      ]
     },
     "execution_count": 218,
     "metadata": {},
     "output_type": "execute_result"
    }
   ],
   "source": [
    "loan[loan['loan_status']=='Charged Off'].verification_status.value_counts()"
   ]
  },
  {
   "cell_type": "code",
   "execution_count": 219,
   "id": "154f836f",
   "metadata": {},
   "outputs": [
    {
     "data": {
      "image/png": "[encoded data removed]",
      "text/plain": [
       "<Figure size 432x288 with 1 Axes>"
      ]
     },
     "metadata": {
      "needs_background": "light"
     },
     "output_type": "display_data"
    }
   ],
   "source": [
    "sns.countplot(x='verification_status', data=loan[loan['loan_status']=='Charged Off'])\n",
    "plt.xlabel('Verification Status')\n",
    "plt.show()"
   ]
  },
  {
   "cell_type": "markdown",
   "id": "edb124b8",
   "metadata": {},
   "source": [
    "OBSERVATION: By looking at the above diagram, it is evident that probability of defaulting is more if loan applicant is not verified."
   ]
  },
  {
   "cell_type": "markdown",
   "id": "947e8924",
   "metadata": {},
   "source": [
    "Let us try to analyse the numerical varaibles."
   ]
  },
  {
   "cell_type": "markdown",
   "id": "e00a8574",
   "metadata": {},
   "source": [
    "#### Creating bins for numerical variables in order to make them categorical which can be used for analysis"
   ]
  },
  {
   "cell_type": "code",
   "execution_count": 220,
   "id": "f1cc42cf",
   "metadata": {},
   "outputs": [
    {
     "data": {
      "text/plain": [
       "count    36654.000000\n",
       "mean        11.888080\n",
       "std          3.667257\n",
       "min          5.420000\n",
       "25%          8.940000\n",
       "50%         11.710000\n",
       "75%         14.270000\n",
       "max         24.400000\n",
       "Name: int_rate, dtype: float64"
      ]
     },
     "execution_count": 220,
     "metadata": {},
     "output_type": "execute_result"
    }
   ],
   "source": [
    "loan.int_rate.describe()"
   ]
  },
  {
   "cell_type": "code",
   "execution_count": 221,
   "id": "51704336",
   "metadata": {},
   "outputs": [],
   "source": [
    "loan['int_rate_groups'] = pd.cut(loan['int_rate'], bins=5, precision=0, labels=['5%-9%','9%-13%','13%-17%','17%-21%','21%-25%'])"
   ]
  },
  {
   "cell_type": "code",
   "execution_count": 222,
   "id": "8cfeee9d",
   "metadata": {},
   "outputs": [
    {
     "data": {
      "text/plain": [
       "count     36654.000000\n",
       "mean      60855.751621\n",
       "std       27750.284125\n",
       "min        4000.000000\n",
       "25%       40000.000000\n",
       "50%       56000.000000\n",
       "75%       77970.500000\n",
       "max      140004.000000\n",
       "Name: annual_inc, dtype: float64"
      ]
     },
     "execution_count": 222,
     "metadata": {},
     "output_type": "execute_result"
    }
   ],
   "source": [
    "loan.annual_inc.describe()"
   ]
  },
  {
   "cell_type": "code",
   "execution_count": 223,
   "id": "dbaacda3",
   "metadata": {},
   "outputs": [],
   "source": [
    "loan['annual_inc_groups'] = pd.cut(loan['annual_inc'], bins=5, precision=0, labels =['4k-31k','31k-58k','58k-85k','85k-112k','112k-141k'])"
   ]
  },
  {
   "cell_type": "code",
   "execution_count": 224,
   "id": "ed009497",
   "metadata": {},
   "outputs": [
    {
     "data": {
      "text/plain": [
       "count    36654.000000\n",
       "mean       311.888682\n",
       "std        199.230096\n",
       "min         15.690000\n",
       "25%        163.080000\n",
       "50%        270.420000\n",
       "75%        408.480000\n",
       "max       1305.190000\n",
       "Name: installment, dtype: float64"
      ]
     },
     "execution_count": 224,
     "metadata": {},
     "output_type": "execute_result"
    }
   ],
   "source": [
    "loan.installment.describe()"
   ]
  },
  {
   "cell_type": "code",
   "execution_count": 225,
   "id": "1198f590",
   "metadata": {},
   "outputs": [],
   "source": [
    "loan['installment_groups'] = pd.cut(loan['installment'], bins=7, precision=0, labels =['15-215','215-415','415-615','615-815','815-1015','1015-1215','1215-1310'])"
   ]
  },
  {
   "cell_type": "code",
   "execution_count": 226,
   "id": "579ff250",
   "metadata": {},
   "outputs": [
    {
     "data": {
      "text/plain": [
       "count    36654.000000\n",
       "mean     10682.249550\n",
       "std       7048.414166\n",
       "min        500.000000\n",
       "25%       5000.000000\n",
       "50%       9250.000000\n",
       "75%      15000.000000\n",
       "max      35000.000000\n",
       "Name: loan_amnt, dtype: float64"
      ]
     },
     "execution_count": 226,
     "metadata": {},
     "output_type": "execute_result"
    }
   ],
   "source": [
    "loan.loan_amnt.describe()"
   ]
  },
  {
   "cell_type": "code",
   "execution_count": 227,
   "id": "486bb678",
   "metadata": {},
   "outputs": [],
   "source": [
    "loan['loan_amnt_groups'] = pd.cut(loan['loan_amnt'], bins=5, precision=0, labels =['0.5k-7.5k','7.5k-14.5k','14.5k-21.5k','21.5k-28.5k','28.5k-35k'])"
   ]
  },
  {
   "cell_type": "code",
   "execution_count": 228,
   "id": "834866e4",
   "metadata": {},
   "outputs": [
    {
     "data": {
      "text/plain": [
       "count    36654.000000\n",
       "mean      9894.181349\n",
       "std       6730.756232\n",
       "min          0.000000\n",
       "25%       4975.000000\n",
       "50%       8375.000000\n",
       "75%      13623.731415\n",
       "max      35000.000000\n",
       "Name: funded_amnt_inv, dtype: float64"
      ]
     },
     "execution_count": 228,
     "metadata": {},
     "output_type": "execute_result"
    }
   ],
   "source": [
    "loan.funded_amnt_inv.describe()"
   ]
  },
  {
   "cell_type": "code",
   "execution_count": 229,
   "id": "138b297f",
   "metadata": {},
   "outputs": [],
   "source": [
    "loan['funded_amnt_inv_groups'] = pd.cut(loan['funded_amnt_inv'], bins=7, precision=0, labels =['0-5k','5k-10k','10k-15k','15k-20k','20k-25k','25k-30k','30k-35k'])"
   ]
  },
  {
   "cell_type": "code",
   "execution_count": 230,
   "id": "7c237d00",
   "metadata": {},
   "outputs": [
    {
     "data": {
      "text/plain": [
       "count    36654.000000\n",
       "mean        13.446725\n",
       "std          6.661899\n",
       "min          0.000000\n",
       "25%          8.350000\n",
       "50%         13.580000\n",
       "75%         18.710000\n",
       "max         29.990000\n",
       "Name: dti, dtype: float64"
      ]
     },
     "execution_count": 230,
     "metadata": {},
     "output_type": "execute_result"
    }
   ],
   "source": [
    "loan.dti.describe()"
   ]
  },
  {
   "cell_type": "code",
   "execution_count": 231,
   "id": "2c19f726",
   "metadata": {},
   "outputs": [],
   "source": [
    "loan['dti_groups'] = pd.cut(loan['dti'], bins=5, precision=0, labels =['0-6','6-12','12-18','18-24','24-30'])"
   ]
  },
  {
   "cell_type": "code",
   "execution_count": 232,
   "id": "81e27a91",
   "metadata": {},
   "outputs": [
    {
     "data": {
      "text/html": [
       "<div>\n",
       "<style scoped>\n",
       "    .dataframe tbody tr th:only-of-type {\n",
       "        vertical-align: middle;\n",
       "    }\n",
       "\n",
       "    .dataframe tbody tr th {\n",
       "        vertical-align: top;\n",
       "    }\n",
       "\n",
       "    .dataframe thead th {\n",
       "        text-align: right;\n",
       "    }\n",
       "</style>\n",
       "<table border=\"1\" class=\"dataframe\">\n",
       "  <thead>\n",
       "    <tr style=\"text-align: right;\">\n",
       "      <th></th>\n",
       "      <th>loan_amnt</th>\n",
       "      <th>funded_amnt_inv</th>\n",
       "      <th>term</th>\n",
       "      <th>int_rate</th>\n",
       "      <th>installment</th>\n",
       "      <th>grade</th>\n",
       "      <th>sub_grade</th>\n",
       "      <th>emp_length</th>\n",
       "      <th>home_ownership</th>\n",
       "      <th>annual_inc</th>\n",
       "      <th>...</th>\n",
       "      <th>loan_status</th>\n",
       "      <th>purpose</th>\n",
       "      <th>dti</th>\n",
       "      <th>pub_rec_bankruptcies</th>\n",
       "      <th>int_rate_groups</th>\n",
       "      <th>annual_inc_groups</th>\n",
       "      <th>installment_groups</th>\n",
       "      <th>loan_amnt_groups</th>\n",
       "      <th>funded_amnt_inv_groups</th>\n",
       "      <th>dti_groups</th>\n",
       "    </tr>\n",
       "  </thead>\n",
       "  <tbody>\n",
       "    <tr>\n",
       "      <th>0</th>\n",
       "      <td>5000</td>\n",
       "      <td>4975.0</td>\n",
       "      <td>36 months</td>\n",
       "      <td>10.65</td>\n",
       "      <td>162.87</td>\n",
       "      <td>B</td>\n",
       "      <td>2</td>\n",
       "      <td>10</td>\n",
       "      <td>RENT</td>\n",
       "      <td>24000.0</td>\n",
       "      <td>...</td>\n",
       "      <td>Fully Paid</td>\n",
       "      <td>credit_card</td>\n",
       "      <td>27.65</td>\n",
       "      <td>0.0</td>\n",
       "      <td>9%-13%</td>\n",
       "      <td>4k-31k</td>\n",
       "      <td>15-215</td>\n",
       "      <td>0.5k-7.5k</td>\n",
       "      <td>0-5k</td>\n",
       "      <td>24-30</td>\n",
       "    </tr>\n",
       "    <tr>\n",
       "      <th>1</th>\n",
       "      <td>2500</td>\n",
       "      <td>2500.0</td>\n",
       "      <td>60 months</td>\n",
       "      <td>15.27</td>\n",
       "      <td>59.83</td>\n",
       "      <td>C</td>\n",
       "      <td>4</td>\n",
       "      <td>0</td>\n",
       "      <td>RENT</td>\n",
       "      <td>30000.0</td>\n",
       "      <td>...</td>\n",
       "      <td>Charged Off</td>\n",
       "      <td>car</td>\n",
       "      <td>1.00</td>\n",
       "      <td>0.0</td>\n",
       "      <td>13%-17%</td>\n",
       "      <td>4k-31k</td>\n",
       "      <td>15-215</td>\n",
       "      <td>0.5k-7.5k</td>\n",
       "      <td>0-5k</td>\n",
       "      <td>0-6</td>\n",
       "    </tr>\n",
       "    <tr>\n",
       "      <th>2</th>\n",
       "      <td>2400</td>\n",
       "      <td>2400.0</td>\n",
       "      <td>36 months</td>\n",
       "      <td>15.96</td>\n",
       "      <td>84.33</td>\n",
       "      <td>C</td>\n",
       "      <td>5</td>\n",
       "      <td>10</td>\n",
       "      <td>RENT</td>\n",
       "      <td>12252.0</td>\n",
       "      <td>...</td>\n",
       "      <td>Fully Paid</td>\n",
       "      <td>small_business</td>\n",
       "      <td>8.72</td>\n",
       "      <td>0.0</td>\n",
       "      <td>13%-17%</td>\n",
       "      <td>4k-31k</td>\n",
       "      <td>15-215</td>\n",
       "      <td>0.5k-7.5k</td>\n",
       "      <td>0-5k</td>\n",
       "      <td>6-12</td>\n",
       "    </tr>\n",
       "    <tr>\n",
       "      <th>3</th>\n",
       "      <td>10000</td>\n",
       "      <td>10000.0</td>\n",
       "      <td>36 months</td>\n",
       "      <td>13.49</td>\n",
       "      <td>339.31</td>\n",
       "      <td>C</td>\n",
       "      <td>1</td>\n",
       "      <td>10</td>\n",
       "      <td>RENT</td>\n",
       "      <td>49200.0</td>\n",
       "      <td>...</td>\n",
       "      <td>Fully Paid</td>\n",
       "      <td>other</td>\n",
       "      <td>20.00</td>\n",
       "      <td>0.0</td>\n",
       "      <td>13%-17%</td>\n",
       "      <td>31k-58k</td>\n",
       "      <td>215-415</td>\n",
       "      <td>7.5k-14.5k</td>\n",
       "      <td>5k-10k</td>\n",
       "      <td>18-24</td>\n",
       "    </tr>\n",
       "    <tr>\n",
       "      <th>5</th>\n",
       "      <td>5000</td>\n",
       "      <td>5000.0</td>\n",
       "      <td>36 months</td>\n",
       "      <td>7.90</td>\n",
       "      <td>156.46</td>\n",
       "      <td>A</td>\n",
       "      <td>4</td>\n",
       "      <td>3</td>\n",
       "      <td>RENT</td>\n",
       "      <td>36000.0</td>\n",
       "      <td>...</td>\n",
       "      <td>Fully Paid</td>\n",
       "      <td>wedding</td>\n",
       "      <td>11.20</td>\n",
       "      <td>0.0</td>\n",
       "      <td>5%-9%</td>\n",
       "      <td>31k-58k</td>\n",
       "      <td>15-215</td>\n",
       "      <td>0.5k-7.5k</td>\n",
       "      <td>0-5k</td>\n",
       "      <td>6-12</td>\n",
       "    </tr>\n",
       "  </tbody>\n",
       "</table>\n",
       "<p>5 rows × 22 columns</p>\n",
       "</div>"
      ],
      "text/plain": [
       "   loan_amnt  funded_amnt_inv        term  int_rate  installment grade  \\\n",
       "0       5000           4975.0   36 months     10.65       162.87     B   \n",
       "1       2500           2500.0   60 months     15.27        59.83     C   \n",
       "2       2400           2400.0   36 months     15.96        84.33     C   \n",
       "3      10000          10000.0   36 months     13.49       339.31     C   \n",
       "5       5000           5000.0   36 months      7.90       156.46     A   \n",
       "\n",
       "   sub_grade  emp_length home_ownership  annual_inc  ...  loan_status  \\\n",
       "0          2          10           RENT     24000.0  ...   Fully Paid   \n",
       "1          4           0           RENT     30000.0  ...  Charged Off   \n",
       "2          5          10           RENT     12252.0  ...   Fully Paid   \n",
       "3          1          10           RENT     49200.0  ...   Fully Paid   \n",
       "5          4           3           RENT     36000.0  ...   Fully Paid   \n",
       "\n",
       "          purpose    dti pub_rec_bankruptcies  int_rate_groups  \\\n",
       "0     credit_card  27.65                  0.0           9%-13%   \n",
       "1             car   1.00                  0.0          13%-17%   \n",
       "2  small_business   8.72                  0.0          13%-17%   \n",
       "3           other  20.00                  0.0          13%-17%   \n",
       "5         wedding  11.20                  0.0            5%-9%   \n",
       "\n",
       "   annual_inc_groups installment_groups loan_amnt_groups  \\\n",
       "0             4k-31k             15-215        0.5k-7.5k   \n",
       "1             4k-31k             15-215        0.5k-7.5k   \n",
       "2             4k-31k             15-215        0.5k-7.5k   \n",
       "3            31k-58k            215-415       7.5k-14.5k   \n",
       "5            31k-58k             15-215        0.5k-7.5k   \n",
       "\n",
       "  funded_amnt_inv_groups dti_groups  \n",
       "0                   0-5k      24-30  \n",
       "1                   0-5k        0-6  \n",
       "2                   0-5k       6-12  \n",
       "3                 5k-10k      18-24  \n",
       "5                   0-5k       6-12  \n",
       "\n",
       "[5 rows x 22 columns]"
      ]
     },
     "execution_count": 232,
     "metadata": {},
     "output_type": "execute_result"
    }
   ],
   "source": [
    "loan.head()"
   ]
  },
  {
   "cell_type": "markdown",
   "id": "2f84ebb6",
   "metadata": {},
   "source": [
    "#### Analyzing 'interest rate' with respect to interest rate bins created"
   ]
  },
  {
   "cell_type": "code",
   "execution_count": 233,
   "id": "856df7f4",
   "metadata": {},
   "outputs": [
    {
     "data": {
      "image/png": "[encoded data removed]",
      "text/plain": [
       "<Figure size 432x288 with 1 Axes>"
      ]
     },
     "metadata": {
      "needs_background": "light"
     },
     "output_type": "display_data"
    }
   ],
   "source": [
    "sns.countplot(x='int_rate_groups', data=loan[loan.loan_status == 'Charged Off'])\n",
    "plt.xlabel('Interest Rate')\n",
    "plt.show()"
   ]
  },
  {
   "cell_type": "markdown",
   "id": "45db4431",
   "metadata": {},
   "source": [
    "OBSERVATION:By looking at the above diagram, it is evident that probability of defaulting is more if loan applicant's interest rate is between 13% to 17%."
   ]
  },
  {
   "cell_type": "markdown",
   "id": "7fbebcad",
   "metadata": {},
   "source": [
    "#### Analyzing 'annual income' with respect to annual income bins created"
   ]
  },
  {
   "cell_type": "code",
   "execution_count": 234,
   "id": "b14cbc52",
   "metadata": {},
   "outputs": [
    {
     "data": {
      "image/png": "[encoded data removed]",
      "text/plain": [
       "<Figure size 432x288 with 1 Axes>"
      ]
     },
     "metadata": {
      "needs_background": "light"
     },
     "output_type": "display_data"
    }
   ],
   "source": [
    "sns.countplot(x='annual_inc_groups', data=loan[loan.loan_status == 'Charged Off'])\n",
    "plt.xlabel('Annual Income')\n",
    "plt.show()"
   ]
  },
  {
   "cell_type": "markdown",
   "id": "31c1026a",
   "metadata": {},
   "source": [
    "OBSERVATION:By looking at the above diagram, it is evident that probability of defaulting is more if loan applicant's annual income is between 31000 to 58000."
   ]
  },
  {
   "cell_type": "markdown",
   "id": "e8157027",
   "metadata": {},
   "source": [
    "#### Analyzing 'installment'  with respect to installment groups created"
   ]
  },
  {
   "cell_type": "code",
   "execution_count": 235,
   "id": "fc6b4e25",
   "metadata": {},
   "outputs": [
    {
     "data": {
      "image/png": "[encoded data removed]",
      "text/plain": [
       "<Figure size 504x360 with 1 Axes>"
      ]
     },
     "metadata": {
      "needs_background": "light"
     },
     "output_type": "display_data"
    }
   ],
   "source": [
    "fig,ax = plt.subplots(figsize = (7,5))\n",
    "sns.countplot(x='installment_groups', data=loan[loan.loan_status == 'Charged Off'])\n",
    "ax.set_yscale('log')\n",
    "plt.xlabel('Installment')\n",
    "plt.show()"
   ]
  },
  {
   "cell_type": "markdown",
   "id": "7808aa52",
   "metadata": {},
   "source": [
    "OBSERVATION:By looking at the above diagram, it is evident that probability of defaulting is more if loan applicant's installment is between 215 to 415."
   ]
  },
  {
   "cell_type": "markdown",
   "id": "5ab64129",
   "metadata": {},
   "source": [
    "#### Analyzing 'loan amount'  with respect to loan amount groups created"
   ]
  },
  {
   "cell_type": "code",
   "execution_count": 236,
   "id": "384c6b3d",
   "metadata": {},
   "outputs": [
    {
     "data": {
      "image/png": "[encoded data removed]",
      "text/plain": [
       "<Figure size 432x288 with 1 Axes>"
      ]
     },
     "metadata": {
      "needs_background": "light"
     },
     "output_type": "display_data"
    }
   ],
   "source": [
    "sns.countplot(x='loan_amnt_groups', data=loan[loan.loan_status == 'Charged Off'])\n",
    "plt.xlabel('Loan Amount')\n",
    "plt.show()"
   ]
  },
  {
   "cell_type": "markdown",
   "id": "cf00a7a6",
   "metadata": {},
   "source": [
    "OBSERVATION:By looking at the above diagram, it is evident that probability of defaulting is more if loan amount of applicant  is between 500 to 7500."
   ]
  },
  {
   "cell_type": "markdown",
   "id": "a2034eb6",
   "metadata": {},
   "source": [
    "#### Analyzing 'funded amount by investor'  with respect to funded amount by investor groups created"
   ]
  },
  {
   "cell_type": "code",
   "execution_count": 237,
   "id": "b5939b05",
   "metadata": {},
   "outputs": [
    {
     "data": {
      "image/png": "[encoded data removed]",
      "text/plain": [
       "<Figure size 432x288 with 1 Axes>"
      ]
     },
     "metadata": {
      "needs_background": "light"
     },
     "output_type": "display_data"
    }
   ],
   "source": [
    "sns.countplot(x='funded_amnt_inv_groups', data=loan[loan.loan_status == 'Charged Off'])\n",
    "plt.xlabel('Funded Amount by Investor')\n",
    "plt.show()"
   ]
  },
  {
   "cell_type": "markdown",
   "id": "d85ace88",
   "metadata": {},
   "source": [
    "OBSERVATION:By looking at the above diagram, it is evident that probability of defaulting is more if funded amount by investor of applicant is between 5000 to 10000."
   ]
  },
  {
   "cell_type": "markdown",
   "id": "ff7c0a0a",
   "metadata": {},
   "source": [
    "#### Analyzing 'Debt-To-Income Ratio'  with respect to Debt-To-Income Ratio groups created"
   ]
  },
  {
   "cell_type": "code",
   "execution_count": 238,
   "id": "dc744fda",
   "metadata": {},
   "outputs": [
    {
     "data": {
      "image/png": "[encoded data removed]",
      "text/plain": [
       "<Figure size 432x288 with 1 Axes>"
      ]
     },
     "metadata": {
      "needs_background": "light"
     },
     "output_type": "display_data"
    }
   ],
   "source": [
    "sns.countplot(x='dti_groups', data=loan[loan.loan_status == 'Charged Off'])\n",
    "plt.xlabel('Debt-to-Income Ratio')\n",
    "plt.show()"
   ]
  },
  {
   "cell_type": "markdown",
   "id": "e2cd921c",
   "metadata": {},
   "source": [
    "OBSERVATION:By looking at the above diagram, it is evident that probability of defaulting is more if debt-to-income ratio of applicant is between 12 to 18."
   ]
  },
  {
   "cell_type": "markdown",
   "id": "e65c119a",
   "metadata": {},
   "source": [
    "#### Analyzing 'employment length'"
   ]
  },
  {
   "cell_type": "code",
   "execution_count": 239,
   "id": "4ccfd1fb",
   "metadata": {},
   "outputs": [
    {
     "data": {
      "image/png": "[encoded data removed]",
      "text/plain": [
       "<Figure size 432x288 with 1 Axes>"
      ]
     },
     "metadata": {
      "needs_background": "light"
     },
     "output_type": "display_data"
    }
   ],
   "source": [
    "sns.countplot(x='emp_length', data=loan[loan.loan_status == 'Charged Off'])\n",
    "plt.xlabel('Employment Length')\n",
    "plt.show()"
   ]
  },
  {
   "cell_type": "markdown",
   "id": "6871d801",
   "metadata": {},
   "source": [
    "OBSERVATION:By looking at the above diagram, it is evident that probability of defaulting is more if loan applicant has employment length of 10 or 10+."
   ]
  },
  {
   "cell_type": "markdown",
   "id": "018da09e",
   "metadata": {},
   "source": [
    "#### Analyzing 'pub_rec_bankruptcies'"
   ]
  },
  {
   "cell_type": "code",
   "execution_count": 240,
   "id": "18e67515",
   "metadata": {},
   "outputs": [
    {
     "data": {
      "image/png": "[encoded data removed]",
      "text/plain": [
       "<Figure size 504x360 with 1 Axes>"
      ]
     },
     "metadata": {
      "needs_background": "light"
     },
     "output_type": "display_data"
    }
   ],
   "source": [
    "fig,ax = plt.subplots(figsize = (7,5))\n",
    "ax.set_yscale('log')\n",
    "sns.countplot(x='pub_rec_bankruptcies', data=loan[loan.loan_status == 'Charged Off'])\n",
    "plt.xlabel('Number of public record bankruptcies')\n",
    "plt.show()"
   ]
  },
  {
   "cell_type": "markdown",
   "id": "3036c3f2",
   "metadata": {},
   "source": [
    "OBSERVATION: Strangely, the probability of defaulting is more if loan applicant has 0 number of bankruptcies."
   ]
  },
  {
   "cell_type": "markdown",
   "id": "f6a9d244",
   "metadata": {},
   "source": [
    "#### Analyzing 'issued month and year'"
   ]
  },
  {
   "cell_type": "code",
   "execution_count": 241,
   "id": "1a2a4cf2",
   "metadata": {},
   "outputs": [
    {
     "data": {
      "text/plain": [
       "25559    Sep-10\n",
       "32472    Feb-10\n",
       "1423     Dec-11\n",
       "33578    Dec-09\n",
       "35491    Aug-09\n",
       "32718    Jan-10\n",
       "22789    Dec-10\n",
       "20759    Jan-11\n",
       "32457    Feb-10\n",
       "17973    Mar-11\n",
       "Name: issue_d, dtype: object"
      ]
     },
     "execution_count": 241,
     "metadata": {},
     "output_type": "execute_result"
    }
   ],
   "source": [
    "loan.issue_d.sample(10)"
   ]
  },
  {
   "cell_type": "code",
   "execution_count": 242,
   "id": "7db4c59b",
   "metadata": {},
   "outputs": [],
   "source": [
    "## Extracting month and year\n",
    "loan_month_year = loan['issue_d'].str.partition(\"-\", True)     \n",
    "loan['issue_month']=loan_month_year[0]                       \n",
    "loan['issue_year']='20' + loan_month_year[2]"
   ]
  },
  {
   "cell_type": "code",
   "execution_count": 243,
   "id": "afd34eb1",
   "metadata": {},
   "outputs": [
    {
     "data": {
      "text/html": [
       "<div>\n",
       "<style scoped>\n",
       "    .dataframe tbody tr th:only-of-type {\n",
       "        vertical-align: middle;\n",
       "    }\n",
       "\n",
       "    .dataframe tbody tr th {\n",
       "        vertical-align: top;\n",
       "    }\n",
       "\n",
       "    .dataframe thead th {\n",
       "        text-align: right;\n",
       "    }\n",
       "</style>\n",
       "<table border=\"1\" class=\"dataframe\">\n",
       "  <thead>\n",
       "    <tr style=\"text-align: right;\">\n",
       "      <th></th>\n",
       "      <th>loan_amnt</th>\n",
       "      <th>funded_amnt_inv</th>\n",
       "      <th>term</th>\n",
       "      <th>int_rate</th>\n",
       "      <th>installment</th>\n",
       "      <th>grade</th>\n",
       "      <th>sub_grade</th>\n",
       "      <th>emp_length</th>\n",
       "      <th>home_ownership</th>\n",
       "      <th>annual_inc</th>\n",
       "      <th>...</th>\n",
       "      <th>dti</th>\n",
       "      <th>pub_rec_bankruptcies</th>\n",
       "      <th>int_rate_groups</th>\n",
       "      <th>annual_inc_groups</th>\n",
       "      <th>installment_groups</th>\n",
       "      <th>loan_amnt_groups</th>\n",
       "      <th>funded_amnt_inv_groups</th>\n",
       "      <th>dti_groups</th>\n",
       "      <th>issue_month</th>\n",
       "      <th>issue_year</th>\n",
       "    </tr>\n",
       "  </thead>\n",
       "  <tbody>\n",
       "    <tr>\n",
       "      <th>35980</th>\n",
       "      <td>5000</td>\n",
       "      <td>5000.000000</td>\n",
       "      <td>36 months</td>\n",
       "      <td>9.32</td>\n",
       "      <td>159.74</td>\n",
       "      <td>A</td>\n",
       "      <td>4</td>\n",
       "      <td>2</td>\n",
       "      <td>RENT</td>\n",
       "      <td>63000.0</td>\n",
       "      <td>...</td>\n",
       "      <td>13.79</td>\n",
       "      <td>0.0</td>\n",
       "      <td>9%-13%</td>\n",
       "      <td>58k-85k</td>\n",
       "      <td>15-215</td>\n",
       "      <td>0.5k-7.5k</td>\n",
       "      <td>0-5k</td>\n",
       "      <td>12-18</td>\n",
       "      <td>Jul</td>\n",
       "      <td>2009</td>\n",
       "    </tr>\n",
       "    <tr>\n",
       "      <th>5112</th>\n",
       "      <td>20000</td>\n",
       "      <td>19975.000000</td>\n",
       "      <td>60 months</td>\n",
       "      <td>10.65</td>\n",
       "      <td>431.37</td>\n",
       "      <td>B</td>\n",
       "      <td>2</td>\n",
       "      <td>1</td>\n",
       "      <td>MORTGAGE</td>\n",
       "      <td>100000.0</td>\n",
       "      <td>...</td>\n",
       "      <td>12.26</td>\n",
       "      <td>0.0</td>\n",
       "      <td>9%-13%</td>\n",
       "      <td>85k-112k</td>\n",
       "      <td>415-615</td>\n",
       "      <td>14.5k-21.5k</td>\n",
       "      <td>15k-20k</td>\n",
       "      <td>12-18</td>\n",
       "      <td>Oct</td>\n",
       "      <td>2011</td>\n",
       "    </tr>\n",
       "    <tr>\n",
       "      <th>14983</th>\n",
       "      <td>5000</td>\n",
       "      <td>5000.000000</td>\n",
       "      <td>60 months</td>\n",
       "      <td>13.49</td>\n",
       "      <td>115.03</td>\n",
       "      <td>C</td>\n",
       "      <td>2</td>\n",
       "      <td>2</td>\n",
       "      <td>RENT</td>\n",
       "      <td>46800.0</td>\n",
       "      <td>...</td>\n",
       "      <td>2.49</td>\n",
       "      <td>0.0</td>\n",
       "      <td>13%-17%</td>\n",
       "      <td>31k-58k</td>\n",
       "      <td>15-215</td>\n",
       "      <td>0.5k-7.5k</td>\n",
       "      <td>0-5k</td>\n",
       "      <td>0-6</td>\n",
       "      <td>May</td>\n",
       "      <td>2011</td>\n",
       "    </tr>\n",
       "    <tr>\n",
       "      <th>25259</th>\n",
       "      <td>8700</td>\n",
       "      <td>8600.000000</td>\n",
       "      <td>36 months</td>\n",
       "      <td>6.76</td>\n",
       "      <td>267.68</td>\n",
       "      <td>A</td>\n",
       "      <td>2</td>\n",
       "      <td>5</td>\n",
       "      <td>MORTGAGE</td>\n",
       "      <td>72000.0</td>\n",
       "      <td>...</td>\n",
       "      <td>9.07</td>\n",
       "      <td>0.0</td>\n",
       "      <td>5%-9%</td>\n",
       "      <td>58k-85k</td>\n",
       "      <td>215-415</td>\n",
       "      <td>7.5k-14.5k</td>\n",
       "      <td>5k-10k</td>\n",
       "      <td>6-12</td>\n",
       "      <td>Sep</td>\n",
       "      <td>2010</td>\n",
       "    </tr>\n",
       "    <tr>\n",
       "      <th>31003</th>\n",
       "      <td>20000</td>\n",
       "      <td>19400.000000</td>\n",
       "      <td>36 months</td>\n",
       "      <td>11.36</td>\n",
       "      <td>658.23</td>\n",
       "      <td>B</td>\n",
       "      <td>5</td>\n",
       "      <td>1</td>\n",
       "      <td>RENT</td>\n",
       "      <td>48500.0</td>\n",
       "      <td>...</td>\n",
       "      <td>11.98</td>\n",
       "      <td>0.0</td>\n",
       "      <td>9%-13%</td>\n",
       "      <td>31k-58k</td>\n",
       "      <td>615-815</td>\n",
       "      <td>14.5k-21.5k</td>\n",
       "      <td>15k-20k</td>\n",
       "      <td>6-12</td>\n",
       "      <td>Apr</td>\n",
       "      <td>2010</td>\n",
       "    </tr>\n",
       "    <tr>\n",
       "      <th>38052</th>\n",
       "      <td>21000</td>\n",
       "      <td>3243.625764</td>\n",
       "      <td>36 months</td>\n",
       "      <td>14.11</td>\n",
       "      <td>718.81</td>\n",
       "      <td>D</td>\n",
       "      <td>1</td>\n",
       "      <td>2</td>\n",
       "      <td>RENT</td>\n",
       "      <td>65000.0</td>\n",
       "      <td>...</td>\n",
       "      <td>5.19</td>\n",
       "      <td>1.0</td>\n",
       "      <td>13%-17%</td>\n",
       "      <td>58k-85k</td>\n",
       "      <td>615-815</td>\n",
       "      <td>14.5k-21.5k</td>\n",
       "      <td>0-5k</td>\n",
       "      <td>0-6</td>\n",
       "      <td>Dec</td>\n",
       "      <td>2008</td>\n",
       "    </tr>\n",
       "    <tr>\n",
       "      <th>28313</th>\n",
       "      <td>2800</td>\n",
       "      <td>2775.000000</td>\n",
       "      <td>60 months</td>\n",
       "      <td>13.61</td>\n",
       "      <td>64.59</td>\n",
       "      <td>C</td>\n",
       "      <td>2</td>\n",
       "      <td>0</td>\n",
       "      <td>RENT</td>\n",
       "      <td>50004.0</td>\n",
       "      <td>...</td>\n",
       "      <td>24.69</td>\n",
       "      <td>0.0</td>\n",
       "      <td>13%-17%</td>\n",
       "      <td>31k-58k</td>\n",
       "      <td>15-215</td>\n",
       "      <td>0.5k-7.5k</td>\n",
       "      <td>0-5k</td>\n",
       "      <td>24-30</td>\n",
       "      <td>Jul</td>\n",
       "      <td>2010</td>\n",
       "    </tr>\n",
       "    <tr>\n",
       "      <th>8654</th>\n",
       "      <td>14000</td>\n",
       "      <td>14000.000000</td>\n",
       "      <td>36 months</td>\n",
       "      <td>11.99</td>\n",
       "      <td>464.94</td>\n",
       "      <td>B</td>\n",
       "      <td>5</td>\n",
       "      <td>8</td>\n",
       "      <td>RENT</td>\n",
       "      <td>35000.0</td>\n",
       "      <td>...</td>\n",
       "      <td>19.68</td>\n",
       "      <td>0.0</td>\n",
       "      <td>9%-13%</td>\n",
       "      <td>31k-58k</td>\n",
       "      <td>415-615</td>\n",
       "      <td>7.5k-14.5k</td>\n",
       "      <td>10k-15k</td>\n",
       "      <td>18-24</td>\n",
       "      <td>Aug</td>\n",
       "      <td>2011</td>\n",
       "    </tr>\n",
       "    <tr>\n",
       "      <th>19859</th>\n",
       "      <td>10000</td>\n",
       "      <td>9950.000000</td>\n",
       "      <td>36 months</td>\n",
       "      <td>10.74</td>\n",
       "      <td>326.16</td>\n",
       "      <td>B</td>\n",
       "      <td>4</td>\n",
       "      <td>4</td>\n",
       "      <td>MORTGAGE</td>\n",
       "      <td>108000.0</td>\n",
       "      <td>...</td>\n",
       "      <td>22.11</td>\n",
       "      <td>1.0</td>\n",
       "      <td>9%-13%</td>\n",
       "      <td>85k-112k</td>\n",
       "      <td>215-415</td>\n",
       "      <td>7.5k-14.5k</td>\n",
       "      <td>5k-10k</td>\n",
       "      <td>18-24</td>\n",
       "      <td>Feb</td>\n",
       "      <td>2011</td>\n",
       "    </tr>\n",
       "    <tr>\n",
       "      <th>12518</th>\n",
       "      <td>16000</td>\n",
       "      <td>16000.000000</td>\n",
       "      <td>36 months</td>\n",
       "      <td>10.59</td>\n",
       "      <td>520.72</td>\n",
       "      <td>B</td>\n",
       "      <td>2</td>\n",
       "      <td>10</td>\n",
       "      <td>RENT</td>\n",
       "      <td>45000.0</td>\n",
       "      <td>...</td>\n",
       "      <td>2.45</td>\n",
       "      <td>0.0</td>\n",
       "      <td>9%-13%</td>\n",
       "      <td>31k-58k</td>\n",
       "      <td>415-615</td>\n",
       "      <td>14.5k-21.5k</td>\n",
       "      <td>15k-20k</td>\n",
       "      <td>0-6</td>\n",
       "      <td>Jul</td>\n",
       "      <td>2011</td>\n",
       "    </tr>\n",
       "  </tbody>\n",
       "</table>\n",
       "<p>10 rows × 24 columns</p>\n",
       "</div>"
      ],
      "text/plain": [
       "       loan_amnt  funded_amnt_inv        term  int_rate  installment grade  \\\n",
       "35980       5000      5000.000000   36 months      9.32       159.74     A   \n",
       "5112       20000     19975.000000   60 months     10.65       431.37     B   \n",
       "14983       5000      5000.000000   60 months     13.49       115.03     C   \n",
       "25259       8700      8600.000000   36 months      6.76       267.68     A   \n",
       "31003      20000     19400.000000   36 months     11.36       658.23     B   \n",
       "38052      21000      3243.625764   36 months     14.11       718.81     D   \n",
       "28313       2800      2775.000000   60 months     13.61        64.59     C   \n",
       "8654       14000     14000.000000   36 months     11.99       464.94     B   \n",
       "19859      10000      9950.000000   36 months     10.74       326.16     B   \n",
       "12518      16000     16000.000000   36 months     10.59       520.72     B   \n",
       "\n",
       "       sub_grade  emp_length home_ownership  annual_inc  ...    dti  \\\n",
       "35980          4           2           RENT     63000.0  ...  13.79   \n",
       "5112           2           1       MORTGAGE    100000.0  ...  12.26   \n",
       "14983          2           2           RENT     46800.0  ...   2.49   \n",
       "25259          2           5       MORTGAGE     72000.0  ...   9.07   \n",
       "31003          5           1           RENT     48500.0  ...  11.98   \n",
       "38052          1           2           RENT     65000.0  ...   5.19   \n",
       "28313          2           0           RENT     50004.0  ...  24.69   \n",
       "8654           5           8           RENT     35000.0  ...  19.68   \n",
       "19859          4           4       MORTGAGE    108000.0  ...  22.11   \n",
       "12518          2          10           RENT     45000.0  ...   2.45   \n",
       "\n",
       "      pub_rec_bankruptcies int_rate_groups annual_inc_groups  \\\n",
       "35980                  0.0          9%-13%           58k-85k   \n",
       "5112                   0.0          9%-13%          85k-112k   \n",
       "14983                  0.0         13%-17%           31k-58k   \n",
       "25259                  0.0           5%-9%           58k-85k   \n",
       "31003                  0.0          9%-13%           31k-58k   \n",
       "38052                  1.0         13%-17%           58k-85k   \n",
       "28313                  0.0         13%-17%           31k-58k   \n",
       "8654                   0.0          9%-13%           31k-58k   \n",
       "19859                  1.0          9%-13%          85k-112k   \n",
       "12518                  0.0          9%-13%           31k-58k   \n",
       "\n",
       "       installment_groups  loan_amnt_groups funded_amnt_inv_groups dti_groups  \\\n",
       "35980              15-215         0.5k-7.5k                   0-5k      12-18   \n",
       "5112              415-615       14.5k-21.5k                15k-20k      12-18   \n",
       "14983              15-215         0.5k-7.5k                   0-5k        0-6   \n",
       "25259             215-415        7.5k-14.5k                 5k-10k       6-12   \n",
       "31003             615-815       14.5k-21.5k                15k-20k       6-12   \n",
       "38052             615-815       14.5k-21.5k                   0-5k        0-6   \n",
       "28313              15-215         0.5k-7.5k                   0-5k      24-30   \n",
       "8654              415-615        7.5k-14.5k                10k-15k      18-24   \n",
       "19859             215-415        7.5k-14.5k                 5k-10k      18-24   \n",
       "12518             415-615       14.5k-21.5k                15k-20k        0-6   \n",
       "\n",
       "      issue_month issue_year  \n",
       "35980         Jul       2009  \n",
       "5112          Oct       2011  \n",
       "14983         May       2011  \n",
       "25259         Sep       2010  \n",
       "31003         Apr       2010  \n",
       "38052         Dec       2008  \n",
       "28313         Jul       2010  \n",
       "8654          Aug       2011  \n",
       "19859         Feb       2011  \n",
       "12518         Jul       2011  \n",
       "\n",
       "[10 rows x 24 columns]"
      ]
     },
     "execution_count": 243,
     "metadata": {},
     "output_type": "execute_result"
    }
   ],
   "source": [
    "loan.sample(10)"
   ]
  },
  {
   "cell_type": "code",
   "execution_count": 244,
   "id": "913299f8",
   "metadata": {},
   "outputs": [
    {
     "data": {
      "image/png": "[encoded data removed]",
      "text/plain": [
       "<Figure size 432x288 with 1 Axes>"
      ]
     },
     "metadata": {
      "needs_background": "light"
     },
     "output_type": "display_data"
    }
   ],
   "source": [
    "g = loan.groupby('issue_year')['loan_status'].count()\n",
    "g.plot.line()\n",
    "plt.xlabel('Loan Issue Year')\n",
    "plt.ylabel('No. of loan granted over the years')\n",
    "plt.show()"
   ]
  },
  {
   "cell_type": "markdown",
   "id": "484f3387",
   "metadata": {},
   "source": [
    "OBSERVATION: The loan has increased exponentially over the years."
   ]
  },
  {
   "cell_type": "code",
   "execution_count": 245,
   "id": "16139080",
   "metadata": {},
   "outputs": [
    {
     "data": {
      "image/png": "[encoded data removed]",
      "text/plain": [
       "<Figure size 432x288 with 1 Axes>"
      ]
     },
     "metadata": {
      "needs_background": "light"
     },
     "output_type": "display_data"
    }
   ],
   "source": [
    "sns.countplot(x='issue_month', data=loan[loan.loan_status=='Charged Off'])\n",
    "plt.xlabel('Loan Issue Month')\n",
    "plt.show()"
   ]
  },
  {
   "cell_type": "markdown",
   "id": "880c9e8f",
   "metadata": {},
   "source": [
    "OBSERVATION:By looking at the above diagram, it is evident that probability of defaulting is high for the loan issued in the month of December, possible due to the fact that people take loan to travel and spend money during the Christmas season."
   ]
  },
  {
   "cell_type": "code",
   "execution_count": 246,
   "id": "90030c82",
   "metadata": {},
   "outputs": [
    {
     "data": {
      "image/png": "[encoded data removed]",
      "text/plain": [
       "<Figure size 432x288 with 1 Axes>"
      ]
     },
     "metadata": {
      "needs_background": "light"
     },
     "output_type": "display_data"
    }
   ],
   "source": [
    "sns.countplot(x='issue_year', data=loan[loan['loan_status']=='Charged Off'])\n",
    "plt.xlabel('Loan Issue Year')\n",
    "plt.show()"
   ]
  },
  {
   "cell_type": "markdown",
   "id": "d9190f16",
   "metadata": {},
   "source": [
    "OBSERVATION:By looking at the above diagram, it is evident that probability of defaulting is high for the loan issued in the year of 2011, possibly due to the fact that there was a financial crisis in USA, assuming the data is of US origin."
   ]
  },
  {
   "cell_type": "markdown",
   "id": "0c5fe6c6",
   "metadata": {},
   "source": [
    "## Bi-Variate Analysis"
   ]
  },
  {
   "cell_type": "markdown",
   "id": "e1f84a8a",
   "metadata": {},
   "source": [
    "#### Analyzing 'annual income' with other columns for more insights"
   ]
  },
  {
   "cell_type": "markdown",
   "id": "a2096d89",
   "metadata": {},
   "source": [
    "##### 1. Annual Income vs Loan Purpose"
   ]
  },
  {
   "cell_type": "code",
   "execution_count": 247,
   "id": "115017e9",
   "metadata": {},
   "outputs": [
    {
     "data": {
      "image/png": "[encoded data removed]",
      "text/plain": [
       "<Figure size 864x864 with 1 Axes>"
      ]
     },
     "metadata": {
      "needs_background": "light"
     },
     "output_type": "display_data"
    }
   ],
   "source": [
    "plt.figure(figsize=(12,12))\n",
    "sns.barplot(data=loan, x='annual_inc', y='purpose', hue='loan_status')\n",
    "plt.xlabel('Annual Income')\n",
    "plt.show()"
   ]
  },
  {
   "cell_type": "markdown",
   "id": "de510297",
   "metadata": {},
   "source": [
    "OBSERVATION:  \n",
    "* Though the number of loans applied and defaulted are the highest, as we saw in our analysis earlier,the above analysis shows that the annual income of those who applied is not the highest.\n",
    "* Applicants with higher salary has largely applied loans for purposes such as 'home improvement', 'house', 'renewable energy' and 'small business'\n",
    "* There is a high probability of defaulting when applicants taking loan for 'home improvement' and have income of 60k -70k"
   ]
  },
  {
   "cell_type": "markdown",
   "id": "93ac9891",
   "metadata": {},
   "source": [
    "##### 2. Annual Income vs Home ownership"
   ]
  },
  {
   "cell_type": "code",
   "execution_count": 248,
   "id": "ec7407f9",
   "metadata": {},
   "outputs": [
    {
     "data": {
      "image/png": "[encoded data removed]",
      "text/plain": [
       "<Figure size 864x864 with 1 Axes>"
      ]
     },
     "metadata": {
      "needs_background": "light"
     },
     "output_type": "display_data"
    }
   ],
   "source": [
    "plt.figure(figsize=(12,12))\n",
    "sns.barplot(data=loan, x='home_ownership', y='annual_inc', hue ='loan_status',palette=\"spring\")\n",
    "plt.xlabel('Home ownership')\n",
    "plt.ylabel('Annual Income')\n",
    "plt.show()"
   ]
  },
  {
   "cell_type": "markdown",
   "id": "07300441",
   "metadata": {},
   "source": [
    "OBSERVATION: There is a high probability of defaulting when applicants taking loan for whose home ownership is 'MORTGAGE' and have income of 60-70k."
   ]
  },
  {
   "cell_type": "markdown",
   "id": "b5980274",
   "metadata": {},
   "source": [
    "##### 3. Annual Income vs Loan Amount"
   ]
  },
  {
   "cell_type": "code",
   "execution_count": 249,
   "id": "cedfad35",
   "metadata": {},
   "outputs": [
    {
     "data": {
      "image/png": "[encoded data removed]",
      "text/plain": [
       "<Figure size 720x576 with 1 Axes>"
      ]
     },
     "metadata": {
      "needs_background": "light"
     },
     "output_type": "display_data"
    }
   ],
   "source": [
    "plt.figure(figsize=(10,8))\n",
    "sns.barplot(data = loan, x = \"annual_inc_groups\", y = \"loan_amnt\", hue = 'loan_status', palette=\"viridis\")\n",
    "plt.xlabel('Annual Income')\n",
    "plt.ylabel('Loan Amount')\n",
    "plt.show()"
   ]
  },
  {
   "cell_type": "markdown",
   "id": "7e5fd97a",
   "metadata": {},
   "source": [
    "OBSERVATION: There is a high probability of defaulting when applicants taking high amount of loan."
   ]
  },
  {
   "cell_type": "markdown",
   "id": "c5891745",
   "metadata": {},
   "source": [
    "##### 4. Annual Income vs Interest rate"
   ]
  },
  {
   "cell_type": "code",
   "execution_count": 250,
   "id": "ab8bdf0c",
   "metadata": {},
   "outputs": [
    {
     "data": {
      "image/png": "[encoded data removed]",
      "text/plain": [
       "<Figure size 720x576 with 1 Axes>"
      ]
     },
     "metadata": {
      "needs_background": "light"
     },
     "output_type": "display_data"
    }
   ],
   "source": [
    "plt.figure(figsize=(10,8))\n",
    "sns.barplot(data=loan, x='int_rate_groups', y='annual_inc', hue ='loan_status', palette=\"Reds\")\n",
    "plt.xlabel('Interest Rate')\n",
    "plt.ylabel('Annual Income')\n",
    "plt.show()"
   ]
  },
  {
   "cell_type": "markdown",
   "id": "58948d59",
   "metadata": {},
   "source": [
    "OBSERVATION: There is a high probability of defaulting when applicants taking loan receive interest at the rate of 21-25% and have an income of 60k-80k"
   ]
  },
  {
   "cell_type": "markdown",
   "id": "19afd787",
   "metadata": {},
   "source": [
    "#### Analyzing 'loan amount' with other columns for more insights"
   ]
  },
  {
   "cell_type": "markdown",
   "id": "05bc4fd6",
   "metadata": {},
   "source": [
    "##### 1. Loan Amount vs Interest rate"
   ]
  },
  {
   "cell_type": "code",
   "execution_count": 251,
   "id": "dbe2296a",
   "metadata": {},
   "outputs": [
    {
     "data": {
      "image/png": "[encoded data removed]",
      "text/plain": [
       "<Figure size 576x576 with 1 Axes>"
      ]
     },
     "metadata": {
      "needs_background": "light"
     },
     "output_type": "display_data"
    }
   ],
   "source": [
    "plt.figure(figsize=(8,8))\n",
    "sns.barplot(data=loan,x='loan_amnt_groups', y='int_rate', hue ='loan_status',palette=\"CMRmap\")\n",
    "plt.show()"
   ]
  },
  {
   "cell_type": "markdown",
   "id": "855b40c1",
   "metadata": {},
   "source": [
    "OBSERVATION: There is a high probability of defaulting when applicants taking loan in the range 28.5k - 35k and are charged interest rate of 15-17.5%"
   ]
  },
  {
   "cell_type": "markdown",
   "id": "b880c354",
   "metadata": {},
   "source": [
    "##### 2. Loan Amount vs Loan Purpose"
   ]
  },
  {
   "cell_type": "code",
   "execution_count": 252,
   "id": "58460ddf",
   "metadata": {},
   "outputs": [
    {
     "data": {
      "image/png": "[encoded data removed]",
      "text/plain": [
       "<Figure size 720x720 with 1 Axes>"
      ]
     },
     "metadata": {
      "needs_background": "light"
     },
     "output_type": "display_data"
    }
   ],
   "source": [
    "plt.figure(figsize=(10,10))\n",
    "sns.barplot(data=loan,x='loan_amnt', y='purpose', hue ='loan_status',palette=\"cividis\")\n",
    "plt.xlabel('Loan Amount')\n",
    "plt.show()"
   ]
  },
  {
   "cell_type": "markdown",
   "id": "ee96f65f",
   "metadata": {},
   "source": [
    "OBSERVATION: There is a high probability of defaulting when applicants taking loan for small business and the loan amount is greater than 14k"
   ]
  },
  {
   "cell_type": "markdown",
   "id": "2b98d86f",
   "metadata": {},
   "source": [
    "##### 3. Loan Amount vs Home ownership"
   ]
  },
  {
   "cell_type": "code",
   "execution_count": 253,
   "id": "6dc80c3f",
   "metadata": {},
   "outputs": [
    {
     "data": {
      "image/png": "[encoded data removed]",
      "text/plain": [
       "<Figure size 720x720 with 1 Axes>"
      ]
     },
     "metadata": {
      "needs_background": "light"
     },
     "output_type": "display_data"
    }
   ],
   "source": [
    "plt.figure(figsize=(10,10))\n",
    "sns.barplot(data=loan,x='loan_amnt', y='home_ownership', hue ='loan_status',palette=\"crest\")\n",
    "plt.xlabel('Loan Amount')\n",
    "plt.ylabel('Home Ownership')\n",
    "plt.show()"
   ]
  },
  {
   "cell_type": "markdown",
   "id": "7057fa88",
   "metadata": {},
   "source": [
    "OBSERVATION: There is a high probability of defaulting when applicants taking loan whose home ownership is 'MORTGAGE' and have loan of 14-16k"
   ]
  },
  {
   "cell_type": "markdown",
   "id": "d575aea6",
   "metadata": {},
   "source": [
    "##### 4. Loan Amount vs Grade "
   ]
  },
  {
   "cell_type": "code",
   "execution_count": 254,
   "id": "75f71e7f",
   "metadata": {},
   "outputs": [
    {
     "data": {
      "image/png": "[encoded data removed]",
      "text/plain": [
       "<Figure size 720x720 with 1 Axes>"
      ]
     },
     "metadata": {
      "needs_background": "light"
     },
     "output_type": "display_data"
    }
   ],
   "source": [
    "plt.figure(figsize=(10,10))\n",
    "sns.barplot(data=loan,x='loan_amnt', y='grade', hue ='loan_status',palette=\"jet_r\", order=['A','B','C','D','E','F','G'])\n",
    "plt.xlabel('Loan Amount')\n",
    "plt.show()"
   ]
  },
  {
   "cell_type": "markdown",
   "id": "dd8f20be",
   "metadata": {},
   "source": [
    "OBSERVATION: There is a high probability of defaulting when applicants taking loan belong to grade F and loan amount is between 15k-20k"
   ]
  },
  {
   "cell_type": "markdown",
   "id": "70b809f1",
   "metadata": {},
   "source": [
    "##### 5. Loan Amount vs Employment Length"
   ]
  },
  {
   "cell_type": "code",
   "execution_count": 255,
   "id": "60a67ead",
   "metadata": {},
   "outputs": [
    {
     "data": {
      "image/png": "[encoded data removed]",
      "text/plain": [
       "<Figure size 720x720 with 1 Axes>"
      ]
     },
     "metadata": {
      "needs_background": "light"
     },
     "output_type": "display_data"
    }
   ],
   "source": [
    "plt.figure(figsize=(10,10))\n",
    "sns.barplot(data=loan,y='loan_amnt', x='emp_length', hue ='loan_status',palette=\"rocket\")\n",
    "plt.xlabel('Employment Length')\n",
    "plt.ylabel('Loan Amount')\n",
    "plt.show()"
   ]
  },
  {
   "cell_type": "markdown",
   "id": "1f70900b",
   "metadata": {},
   "source": [
    "OBSERVATION: There is a high probability of defaulting when applicants taking loan have 10 years of employment length and loan amount is 12k-14k"
   ]
  },
  {
   "cell_type": "code",
   "execution_count": 256,
   "id": "332cfd90",
   "metadata": {},
   "outputs": [
    {
     "data": {
      "image/png": "[encoded data removed]",
      "text/plain": [
       "<Figure size 576x432 with 1 Axes>"
      ]
     },
     "metadata": {
      "needs_background": "light"
     },
     "output_type": "display_data"
    }
   ],
   "source": [
    "plt.figure(figsize=(8,6))\n",
    "sns.barplot(data=loan,y='loan_amnt', x='verification_status', hue ='loan_status',palette=\"seismic_r\")\n",
    "plt.xlabel('Verification Status')\n",
    "plt.ylabel('Loan Amount')\n",
    "plt.show()"
   ]
  },
  {
   "cell_type": "markdown",
   "id": "e9103ac6",
   "metadata": {},
   "source": [
    "OBSERVATION: There is a high probability of defaulting when applicants taking loan amount above 16k and loan is verified"
   ]
  },
  {
   "cell_type": "markdown",
   "id": "dbfe4f26",
   "metadata": {},
   "source": [
    "#### Analyzing 'grade' vs 'interest rate'"
   ]
  },
  {
   "cell_type": "code",
   "execution_count": 257,
   "id": "647ddf31",
   "metadata": {},
   "outputs": [
    {
     "data": {
      "image/png": "[encoded data removed]",
      "text/plain": [
       "<Figure size 720x720 with 1 Axes>"
      ]
     },
     "metadata": {
      "needs_background": "light"
     },
     "output_type": "display_data"
    }
   ],
   "source": [
    "plt.figure(figsize=(10,10))\n",
    "sns.barplot(data=loan,x='int_rate', y='grade', hue ='loan_status',palette=\"copper_r\", order=['A','B','C','D','E','F','G'])\n",
    "plt.xlabel('Interest Rate')\n",
    "plt.show()"
   ]
  },
  {
   "cell_type": "markdown",
   "id": "c4e3ab9b",
   "metadata": {},
   "source": [
    "OBSERVATION: There is a high probability of defaulting when applicants taking loan belong to grade G and interest rate above 20%"
   ]
  },
  {
   "cell_type": "markdown",
   "id": "6b644785",
   "metadata": {},
   "source": [
    "##### Analyzing 'loan amount' vs 'interest rate'"
   ]
  },
  {
   "cell_type": "code",
   "execution_count": 258,
   "id": "c2214d22",
   "metadata": {},
   "outputs": [
    {
     "data": {
      "image/png": "[encoded data removed]",
      "text/plain": [
       "<Figure size 864x720 with 1 Axes>"
      ]
     },
     "metadata": {
      "needs_background": "light"
     },
     "output_type": "display_data"
    }
   ],
   "source": [
    "plt.figure(figsize=(12,10))\n",
    "plt.tight_layout()\n",
    "sns.boxplot(data =loan,y ='int_rate', x ='loan_amnt_groups', hue ='loan_status',palette=\"inferno_r\")\n",
    "plt.xlabel('Loan Amount')\n",
    "plt.ylabel('Interest Rate')\n",
    "plt.show()"
   ]
  },
  {
   "cell_type": "markdown",
   "id": "4e7566b5",
   "metadata": {},
   "source": [
    "IMPORTANT OBSERVATION: The interest rate of charged off loans is very high than that of fully paid loans across all the loan amount groups. This can be really strong driving factor for loan defaulting."
   ]
  },
  {
   "cell_type": "markdown",
   "id": "52b3d229",
   "metadata": {},
   "source": [
    "#### Multi-Variate Analysis"
   ]
  },
  {
   "cell_type": "code",
   "execution_count": 259,
   "id": "938d08e5",
   "metadata": {},
   "outputs": [
    {
     "data": {
      "text/html": [
       "<div>\n",
       "<style scoped>\n",
       "    .dataframe tbody tr th:only-of-type {\n",
       "        vertical-align: middle;\n",
       "    }\n",
       "\n",
       "    .dataframe tbody tr th {\n",
       "        vertical-align: top;\n",
       "    }\n",
       "\n",
       "    .dataframe thead th {\n",
       "        text-align: right;\n",
       "    }\n",
       "</style>\n",
       "<table border=\"1\" class=\"dataframe\">\n",
       "  <thead>\n",
       "    <tr style=\"text-align: right;\">\n",
       "      <th></th>\n",
       "      <th>loan_amnt</th>\n",
       "      <th>funded_amnt_inv</th>\n",
       "      <th>term</th>\n",
       "      <th>int_rate</th>\n",
       "      <th>installment</th>\n",
       "      <th>grade</th>\n",
       "      <th>sub_grade</th>\n",
       "      <th>emp_length</th>\n",
       "      <th>home_ownership</th>\n",
       "      <th>annual_inc</th>\n",
       "      <th>...</th>\n",
       "      <th>dti</th>\n",
       "      <th>pub_rec_bankruptcies</th>\n",
       "      <th>int_rate_groups</th>\n",
       "      <th>annual_inc_groups</th>\n",
       "      <th>installment_groups</th>\n",
       "      <th>loan_amnt_groups</th>\n",
       "      <th>funded_amnt_inv_groups</th>\n",
       "      <th>dti_groups</th>\n",
       "      <th>issue_month</th>\n",
       "      <th>issue_year</th>\n",
       "    </tr>\n",
       "  </thead>\n",
       "  <tbody>\n",
       "    <tr>\n",
       "      <th>0</th>\n",
       "      <td>5000</td>\n",
       "      <td>4975.0</td>\n",
       "      <td>36 months</td>\n",
       "      <td>10.65</td>\n",
       "      <td>162.87</td>\n",
       "      <td>B</td>\n",
       "      <td>2</td>\n",
       "      <td>10</td>\n",
       "      <td>RENT</td>\n",
       "      <td>24000.0</td>\n",
       "      <td>...</td>\n",
       "      <td>27.65</td>\n",
       "      <td>0.0</td>\n",
       "      <td>9%-13%</td>\n",
       "      <td>4k-31k</td>\n",
       "      <td>15-215</td>\n",
       "      <td>0.5k-7.5k</td>\n",
       "      <td>0-5k</td>\n",
       "      <td>24-30</td>\n",
       "      <td>Dec</td>\n",
       "      <td>2011</td>\n",
       "    </tr>\n",
       "    <tr>\n",
       "      <th>1</th>\n",
       "      <td>2500</td>\n",
       "      <td>2500.0</td>\n",
       "      <td>60 months</td>\n",
       "      <td>15.27</td>\n",
       "      <td>59.83</td>\n",
       "      <td>C</td>\n",
       "      <td>4</td>\n",
       "      <td>0</td>\n",
       "      <td>RENT</td>\n",
       "      <td>30000.0</td>\n",
       "      <td>...</td>\n",
       "      <td>1.00</td>\n",
       "      <td>0.0</td>\n",
       "      <td>13%-17%</td>\n",
       "      <td>4k-31k</td>\n",
       "      <td>15-215</td>\n",
       "      <td>0.5k-7.5k</td>\n",
       "      <td>0-5k</td>\n",
       "      <td>0-6</td>\n",
       "      <td>Dec</td>\n",
       "      <td>2011</td>\n",
       "    </tr>\n",
       "    <tr>\n",
       "      <th>2</th>\n",
       "      <td>2400</td>\n",
       "      <td>2400.0</td>\n",
       "      <td>36 months</td>\n",
       "      <td>15.96</td>\n",
       "      <td>84.33</td>\n",
       "      <td>C</td>\n",
       "      <td>5</td>\n",
       "      <td>10</td>\n",
       "      <td>RENT</td>\n",
       "      <td>12252.0</td>\n",
       "      <td>...</td>\n",
       "      <td>8.72</td>\n",
       "      <td>0.0</td>\n",
       "      <td>13%-17%</td>\n",
       "      <td>4k-31k</td>\n",
       "      <td>15-215</td>\n",
       "      <td>0.5k-7.5k</td>\n",
       "      <td>0-5k</td>\n",
       "      <td>6-12</td>\n",
       "      <td>Dec</td>\n",
       "      <td>2011</td>\n",
       "    </tr>\n",
       "    <tr>\n",
       "      <th>3</th>\n",
       "      <td>10000</td>\n",
       "      <td>10000.0</td>\n",
       "      <td>36 months</td>\n",
       "      <td>13.49</td>\n",
       "      <td>339.31</td>\n",
       "      <td>C</td>\n",
       "      <td>1</td>\n",
       "      <td>10</td>\n",
       "      <td>RENT</td>\n",
       "      <td>49200.0</td>\n",
       "      <td>...</td>\n",
       "      <td>20.00</td>\n",
       "      <td>0.0</td>\n",
       "      <td>13%-17%</td>\n",
       "      <td>31k-58k</td>\n",
       "      <td>215-415</td>\n",
       "      <td>7.5k-14.5k</td>\n",
       "      <td>5k-10k</td>\n",
       "      <td>18-24</td>\n",
       "      <td>Dec</td>\n",
       "      <td>2011</td>\n",
       "    </tr>\n",
       "    <tr>\n",
       "      <th>5</th>\n",
       "      <td>5000</td>\n",
       "      <td>5000.0</td>\n",
       "      <td>36 months</td>\n",
       "      <td>7.90</td>\n",
       "      <td>156.46</td>\n",
       "      <td>A</td>\n",
       "      <td>4</td>\n",
       "      <td>3</td>\n",
       "      <td>RENT</td>\n",
       "      <td>36000.0</td>\n",
       "      <td>...</td>\n",
       "      <td>11.20</td>\n",
       "      <td>0.0</td>\n",
       "      <td>5%-9%</td>\n",
       "      <td>31k-58k</td>\n",
       "      <td>15-215</td>\n",
       "      <td>0.5k-7.5k</td>\n",
       "      <td>0-5k</td>\n",
       "      <td>6-12</td>\n",
       "      <td>Dec</td>\n",
       "      <td>2011</td>\n",
       "    </tr>\n",
       "  </tbody>\n",
       "</table>\n",
       "<p>5 rows × 24 columns</p>\n",
       "</div>"
      ],
      "text/plain": [
       "   loan_amnt  funded_amnt_inv        term  int_rate  installment grade  \\\n",
       "0       5000           4975.0   36 months     10.65       162.87     B   \n",
       "1       2500           2500.0   60 months     15.27        59.83     C   \n",
       "2       2400           2400.0   36 months     15.96        84.33     C   \n",
       "3      10000          10000.0   36 months     13.49       339.31     C   \n",
       "5       5000           5000.0   36 months      7.90       156.46     A   \n",
       "\n",
       "   sub_grade  emp_length home_ownership  annual_inc  ...    dti  \\\n",
       "0          2          10           RENT     24000.0  ...  27.65   \n",
       "1          4           0           RENT     30000.0  ...   1.00   \n",
       "2          5          10           RENT     12252.0  ...   8.72   \n",
       "3          1          10           RENT     49200.0  ...  20.00   \n",
       "5          4           3           RENT     36000.0  ...  11.20   \n",
       "\n",
       "  pub_rec_bankruptcies int_rate_groups annual_inc_groups  installment_groups  \\\n",
       "0                  0.0          9%-13%            4k-31k              15-215   \n",
       "1                  0.0         13%-17%            4k-31k              15-215   \n",
       "2                  0.0         13%-17%            4k-31k              15-215   \n",
       "3                  0.0         13%-17%           31k-58k             215-415   \n",
       "5                  0.0           5%-9%           31k-58k              15-215   \n",
       "\n",
       "   loan_amnt_groups funded_amnt_inv_groups dti_groups issue_month issue_year  \n",
       "0         0.5k-7.5k                   0-5k      24-30         Dec       2011  \n",
       "1         0.5k-7.5k                   0-5k        0-6         Dec       2011  \n",
       "2         0.5k-7.5k                   0-5k       6-12         Dec       2011  \n",
       "3        7.5k-14.5k                 5k-10k      18-24         Dec       2011  \n",
       "5         0.5k-7.5k                   0-5k       6-12         Dec       2011  \n",
       "\n",
       "[5 rows x 24 columns]"
      ]
     },
     "execution_count": 259,
     "metadata": {},
     "output_type": "execute_result"
    }
   ],
   "source": [
    "loan.head()"
   ]
  },
  {
   "cell_type": "markdown",
   "id": "914eef38",
   "metadata": {},
   "source": [
    "Now let us see how variables are corelated to each other. In order to this, let us filer all the numerical values and will see the correlation of each variable with other numerical variable."
   ]
  },
  {
   "cell_type": "code",
   "execution_count": 260,
   "id": "83d0a232",
   "metadata": {},
   "outputs": [
    {
     "data": {
      "text/html": [
       "<div>\n",
       "<style scoped>\n",
       "    .dataframe tbody tr th:only-of-type {\n",
       "        vertical-align: middle;\n",
       "    }\n",
       "\n",
       "    .dataframe tbody tr th {\n",
       "        vertical-align: top;\n",
       "    }\n",
       "\n",
       "    .dataframe thead th {\n",
       "        text-align: right;\n",
       "    }\n",
       "</style>\n",
       "<table border=\"1\" class=\"dataframe\">\n",
       "  <thead>\n",
       "    <tr style=\"text-align: right;\">\n",
       "      <th></th>\n",
       "      <th>loan_amnt</th>\n",
       "      <th>funded_amnt_inv</th>\n",
       "      <th>int_rate</th>\n",
       "      <th>installment</th>\n",
       "      <th>emp_length</th>\n",
       "      <th>annual_inc</th>\n",
       "      <th>dti</th>\n",
       "    </tr>\n",
       "  </thead>\n",
       "  <tbody>\n",
       "    <tr>\n",
       "      <th>loan_amnt</th>\n",
       "      <td>1.000</td>\n",
       "      <td>0.907</td>\n",
       "      <td>0.339</td>\n",
       "      <td>0.927</td>\n",
       "      <td>0.160</td>\n",
       "      <td>0.460</td>\n",
       "      <td>0.078</td>\n",
       "    </tr>\n",
       "    <tr>\n",
       "      <th>funded_amnt_inv</th>\n",
       "      <td>0.907</td>\n",
       "      <td>1.000</td>\n",
       "      <td>0.358</td>\n",
       "      <td>0.856</td>\n",
       "      <td>0.177</td>\n",
       "      <td>0.413</td>\n",
       "      <td>0.086</td>\n",
       "    </tr>\n",
       "    <tr>\n",
       "      <th>int_rate</th>\n",
       "      <td>0.339</td>\n",
       "      <td>0.358</td>\n",
       "      <td>1.000</td>\n",
       "      <td>0.316</td>\n",
       "      <td>0.014</td>\n",
       "      <td>0.153</td>\n",
       "      <td>0.042</td>\n",
       "    </tr>\n",
       "    <tr>\n",
       "      <th>installment</th>\n",
       "      <td>0.927</td>\n",
       "      <td>0.856</td>\n",
       "      <td>0.316</td>\n",
       "      <td>1.000</td>\n",
       "      <td>0.134</td>\n",
       "      <td>0.457</td>\n",
       "      <td>0.054</td>\n",
       "    </tr>\n",
       "    <tr>\n",
       "      <th>emp_length</th>\n",
       "      <td>0.160</td>\n",
       "      <td>0.177</td>\n",
       "      <td>0.014</td>\n",
       "      <td>0.134</td>\n",
       "      <td>1.000</td>\n",
       "      <td>0.159</td>\n",
       "      <td>0.066</td>\n",
       "    </tr>\n",
       "    <tr>\n",
       "      <th>annual_inc</th>\n",
       "      <td>0.460</td>\n",
       "      <td>0.413</td>\n",
       "      <td>0.153</td>\n",
       "      <td>0.457</td>\n",
       "      <td>0.159</td>\n",
       "      <td>1.000</td>\n",
       "      <td>-0.028</td>\n",
       "    </tr>\n",
       "    <tr>\n",
       "      <th>dti</th>\n",
       "      <td>0.078</td>\n",
       "      <td>0.086</td>\n",
       "      <td>0.042</td>\n",
       "      <td>0.054</td>\n",
       "      <td>0.066</td>\n",
       "      <td>-0.028</td>\n",
       "      <td>1.000</td>\n",
       "    </tr>\n",
       "  </tbody>\n",
       "</table>\n",
       "</div>"
      ],
      "text/plain": [
       "                 loan_amnt  funded_amnt_inv  int_rate  installment  \\\n",
       "loan_amnt            1.000            0.907     0.339        0.927   \n",
       "funded_amnt_inv      0.907            1.000     0.358        0.856   \n",
       "int_rate             0.339            0.358     1.000        0.316   \n",
       "installment          0.927            0.856     0.316        1.000   \n",
       "emp_length           0.160            0.177     0.014        0.134   \n",
       "annual_inc           0.460            0.413     0.153        0.457   \n",
       "dti                  0.078            0.086     0.042        0.054   \n",
       "\n",
       "                 emp_length  annual_inc    dti  \n",
       "loan_amnt             0.160       0.460  0.078  \n",
       "funded_amnt_inv       0.177       0.413  0.086  \n",
       "int_rate              0.014       0.153  0.042  \n",
       "installment           0.134       0.457  0.054  \n",
       "emp_length            1.000       0.159  0.066  \n",
       "annual_inc            0.159       1.000 -0.028  \n",
       "dti                   0.066      -0.028  1.000  "
      ]
     },
     "execution_count": 260,
     "metadata": {},
     "output_type": "execute_result"
    }
   ],
   "source": [
    "# Filtering all the numerical values to understand their correlation\n",
    "loan_corr_df = loan[loan.loan_status == 'Charged Off'].filter([\"loan_amnt\", \"funded_amnt_inv\",'int_rate','installment','emp_length','annual_inc','dti']) \n",
    "corr = loan_corr_df.corr()\n",
    "round(corr, 3)"
   ]
  },
  {
   "cell_type": "code",
   "execution_count": 261,
   "id": "d1aaf738",
   "metadata": {},
   "outputs": [
    {
     "data": {
      "image/png": "[encoded data removed]",
      "text/plain": [
       "<Figure size 720x576 with 2 Axes>"
      ]
     },
     "metadata": {
      "needs_background": "light"
     },
     "output_type": "display_data"
    }
   ],
   "source": [
    "#Plotting Heat map to understand correlation visually\n",
    "plt.figure(figsize=(10,8))\n",
    "\n",
    "# heatmap\n",
    "sns.heatmap(corr, cmap=\"YlGnBu\", annot=True)\n",
    "plt.show()"
   ]
  },
  {
   "cell_type": "code",
   "execution_count": 262,
   "id": "f7554c10",
   "metadata": {},
   "outputs": [
    {
     "data": {
      "text/plain": [
       "<Figure size 720x576 with 0 Axes>"
      ]
     },
     "metadata": {},
     "output_type": "display_data"
    },
    {
     "data": {
      "image/png": "[encoded data removed]",
      "text/plain": [
       "<Figure size 720x720 with 4 Axes>"
      ]
     },
     "metadata": {
      "needs_background": "light"
     },
     "output_type": "display_data"
    }
   ],
   "source": [
    "#Plotting cluster map to understand where the cluster lies\n",
    "plt.figure(figsize=(10,8))\n",
    "\n",
    "# clustermap\n",
    "sns.clustermap(corr, cmap=\"YlGnBu\", annot=True)\n",
    "plt.show()"
   ]
  },
  {
   "cell_type": "markdown",
   "id": "a764c4ac",
   "metadata": {},
   "source": [
    "OBSERVATION: The applicants having high chances of defaulting have following correlation behavior:   \n",
    "* Loan Amount, Installment and Funded amount by investors are highly correlated. That means, higher the loan amount, higher the installment, and higher the funded amount by investors.   \n",
    "* Annual income is somewhat correlated but doesn't impach much in terms of funded amount by investors and the loan amount applied.   \n",
    "* Interest rate is not correlated to Annual Income. That means, the annual income of the defaulting loan applicant doesn't influence the interest rate proposed.   \n",
    "* Debt-to-Income ratio is negatively corelated to Annual Income. That means, lesser the annual income, higher the debt.        "
   ]
  }
 ],
 "metadata": {
  "kernelspec": {
   "display_name": "Python 3 (ipykernel)",
   "language": "python",
   "name": "python3"
  },
  "language_info": {
   "codemirror_mode": {
    "name": "ipython",
    "version": 3
   },
   "file_extension": ".py",
   "mimetype": "text/x-python",
   "name": "python",
   "nbconvert_exporter": "python",
   "pygments_lexer": "ipython3",
   "version": "3.9.7"
  }
 },
 "nbformat": 4,
 "nbformat_minor": 5
}
